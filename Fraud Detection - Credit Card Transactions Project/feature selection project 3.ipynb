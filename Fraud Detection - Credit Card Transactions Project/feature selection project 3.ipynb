{
 "cells": [
  {
   "cell_type": "markdown",
   "metadata": {},
   "source": [
    "## Contents\n",
    "* [1. Introduction](#first-bullet)\n",
    "* [2. Filtering ](#second-bullet)\n",
    "* [3. Wrapping ](#third-bullet)\n",
    "* [4 Storing the variables](#fourth-bullet)"
   ]
  },
  {
   "cell_type": "markdown",
   "metadata": {},
   "source": [
    "## Introduction <a class=\"anchor\" id=\"first-bullet\"></a>\n",
    "This notebook does a filter followed by a wrapper. It's capable of doing the filter on more than one file. The variable file names can be changed.\n",
    "\n",
    "The filter runs separately on each vars file and keeps the top num_filter variables from each file. If there are more than one vars files we'll again select the top num_filter variables across all the vars.csv files.\n",
    "\n",
    "During filtering, if balance = 0 the entire files are used. If balance != 0 then balance is the ratio of goods to bads retained for the rest of the feature selection. We keep all the rare class (bads) and downsample the goods. \n",
    "\n",
    "For wrapping forward selection method has been used where the scoring function is fdr. Finally, we choose the top variables and output the dataset with these features into a csv.\n"
   ]
  },
  {
   "cell_type": "code",
   "execution_count": 1,
   "metadata": {
    "scrolled": false
   },
   "outputs": [],
   "source": [
    "# load libraries\n",
    "# %pip install mlxtend\n",
    "# %pip install lightgbm\n",
    "\n",
    "import pandas as pd\n",
    "import numpy as np\n",
    "import scipy.stats as sps\n",
    "import matplotlib.pyplot as plt\n",
    "import datetime as dt\n",
    "import gc\n",
    "from sklearn.ensemble import RandomForestClassifier\n",
    "from mlxtend.feature_selection import SequentialFeatureSelector as SFS\n",
    "from lightgbm import LGBMClassifier\n",
    "%matplotlib inline\n",
    "start_time = dt.datetime.now()"
   ]
  },
  {
   "cell_type": "code",
   "execution_count": 96,
   "metadata": {},
   "outputs": [],
   "source": [
    "# set some parameters\n",
    "fileList = ['final1_1.csv','final2_2.csv','final3_3.csv'] #names of the files which can be changed here\n",
    "num_files = len(fileList)\n",
    "num_filter = 30 #from each file how many top variables should be filtered\n",
    "tot_filter = num_filter*num_files #not used\n",
    "num_wrapper = 20 #how many variables should be selected by the wrapper\n",
    "balance = 0 #if we want to downsample the goods for feature selection\n",
    "detect_rate = .03\n",
    "index_name = 'Recnum'\n",
    "y_name = 'Fraud'\n",
    "good_label = 0\n",
    "bad_label = 1"
   ]
  },
  {
   "cell_type": "markdown",
   "metadata": {},
   "source": [
    "## Filtering <a class=\"anchor\" id=\"second-bullet\"></a>"
   ]
  },
  {
   "cell_type": "markdown",
   "metadata": {},
   "source": [
    "This part of the code reads all the individual files and applies KS filtering on it. \n",
    "Top num_filter variables from each file are found and wrapping is performed on num_filter * num_files variables.\n",
    "For example if there are 3 vars files then for each file 50 are selected and finally, 150 variables are input to the wrapper."
   ]
  },
  {
   "cell_type": "code",
   "execution_count": 67,
   "metadata": {},
   "outputs": [],
   "source": [
    "#last two months index\n",
    "df_i = pd.read_csv(\"card transactions.csv\")\n",
    "oot_index = min(df_i[df_i['Date']>='2006-11-01'].Recnum)\n",
    "#first two weeks index\n",
    "i_weeks_index = min(df_i[df_i['Date']>='2006-01-14'].Recnum)\n",
    "del df_i"
   ]
  },
  {
   "cell_type": "markdown",
   "metadata": {},
   "source": [
    "For each loop we do the following:\n",
    "- Read the file; remove OOT data and first two weeks data\n",
    "- create a variable with random values in it. This is just to perform a sanity check \n",
    "- If balance is not equal to 0, downsample the goods. We have to keep the samples the same for all the files.\n",
    "- For each column, apply KS scoring and store the KS value in filter_score against that variable's name\n",
    "- Find the top num_filter variables and create a dataframe to only contain those variables and Y variable containing the fraud label variable\n"
   ]
  },
  {
   "cell_type": "code",
   "execution_count": 68,
   "metadata": {},
   "outputs": [
    {
     "name": "stdout",
     "output_type": "stream",
     "text": [
      "********** working on final1_1.csv size is (96397, 152)\n",
      "100\n",
      "final1_1.csv                            variable     score\n",
      "92                            Fraud  1.000000\n",
      "16              Cardnum_Zip_total_7  0.684885\n",
      "127    Cardnum_Merchnum_zip_total_7  0.678691\n",
      "149             Cardnum_Zip_total_3  0.677626\n",
      "54    Cardnum_Merchnum_zip3_total_7  0.671999\n",
      "104           Cardnum_state_total_7  0.669686\n",
      "6    Cardnum_Merchnum_zip3_total_14  0.665531\n",
      "23              Cardnum_Zip_total_1  0.660539\n",
      "65               Cardnum_Zip_max_14  0.655663\n",
      "150         Cardnum_Merchnum_max_14  0.654567\n",
      "22             Cardnum_Zip3_total_1  0.653927\n",
      "73      Cardnum_Merchnum_zip_max_14  0.651473\n",
      "3     Cardnum_Merchnum_state_max_30  0.650915\n",
      "113             Cardnum_Zip3_max_14  0.649856\n",
      "55   Cardnum_Merchnum_zip3_total_30  0.649589\n",
      "110      Cardnum_Merchnum_zip_max_7  0.647455\n",
      "76     Cardnum_Merchnum_zip3_max_30  0.642572\n",
      "58       Cardnum_Merchnum_zip_max_3  0.641552\n",
      "19      Cardnum_Merchnum_zip3_max_3  0.635892\n",
      "126            Cardnum_state_max_14  0.630502\n",
      "********** working on final2_2.csv size is (96397, 400)\n",
      "100\n",
      "200\n",
      "300\n",
      "400\n",
      "final2_2.csv                             variable     score\n",
      "398                            Fraud  1.000000\n",
      "111   Cardnum_Merchnum_state_total_7  0.681567\n",
      "76          Cardnum_Merchnum_total_7  0.681267\n",
      "34              Cardnum_Zip3_total_7  0.677305\n",
      "367  Cardnum_Merchnum_state_total_14  0.675991\n",
      "24         Cardnum_Merchnum_total_14  0.675442\n",
      "92    Cardnum_Merchnum_state_total_3  0.675391\n",
      "285         Cardnum_Merchnum_total_3  0.675254\n",
      "314            Cardnum_state_total_3  0.674228\n",
      "391     Cardnum_Merchnum_zip_total_3  0.673137\n",
      "179    Cardnum_Merchnum_zip_total_14  0.672622\n",
      "206             Cardnum_Zip_total_14  0.672190\n",
      "15              Cardnum_Zip3_total_3  0.670750\n",
      "113           Cardnum_state_total_14  0.669042\n",
      "356    Cardnum_Merchnum_zip3_total_3  0.666924\n",
      "275            Cardnum_Zip3_total_14  0.664316\n",
      "116  Cardnum_Merchnum_state_total_30  0.659887\n",
      "289        Cardnum_Merchnum_total_30  0.659175\n",
      "305            Cardnum_state_total_1  0.659162\n",
      "67    Cardnum_Merchnum_state_total_1  0.658455\n",
      "********** working on final3_3.csv size is (96397, 216)\n",
      "100\n",
      "200\n",
      "final3_3.csv                   variable     score\n",
      "214                  Fraud  1.000000\n",
      "206   Merchnum_Zip_total_3  0.607356\n",
      "26      Merchnum_Zip_max_0  0.603667\n",
      "7           Merchnum_max_0  0.602209\n",
      "187   Merchnum_Zip_total_1  0.600698\n",
      "79        Merchnum_total_3  0.599261\n",
      "2      Merchnum_Zip3_max_0  0.595544\n",
      "171       Merchnum_total_1  0.594367\n",
      "150  Merchnum_Zip3_total_3  0.593331\n",
      "95   Merchnum_Zip3_total_1  0.591785\n",
      "72      Merchnum_Zip_max_1  0.590718\n",
      "204         Merchnum_max_1  0.583107\n",
      "108    Merchnum_Zip3_max_1  0.581833\n",
      "36      Merchnum_Zip_avg_0  0.581046\n",
      "163         Merchnum_avg_0  0.580588\n",
      "165    Merchnum_Zip3_avg_0  0.578289\n",
      "178   Merchnum_Zip_total_0  0.577286\n",
      "86      Merchnum_Zip_max_3  0.577111\n",
      "58      Merchnum_Zip_avg_1  0.575190\n",
      "198   Merchnum_Zip_total_7  0.574793\n",
      "Wall time: 41.7 s\n"
     ]
    }
   ],
   "source": [
    "%%time\n",
    "filter_score_df_list = []\n",
    "for i,file_name in enumerate(fileList):\n",
    "#     file_name = \"vars\"+str(i+1)+'.csv'\n",
    "    df = pd.read_csv(file_name)\n",
    "    print(\"********** working on\",file_name,\"size is\",df.shape)\n",
    "    df = df.set_index(index_name) \n",
    "    df = df[df.index <= oot_index] # remove the last two months as the out-of-time data (OOT)  #84300\n",
    "    df = df[df.index >= i_weeks_index] # remove the first 2 weeks of records since their variables aren't well formed #2995\n",
    "    df['RANDOM'] = np.random.ranf(len(df)) # add a random number variable to make sure it doesn't come up as important\n",
    "    goods = df[df[y_name] == good_label]\n",
    "    bads = df[df[y_name] == bad_label]\n",
    "    del df # don't need this file anymore\n",
    "    num_goods = len(goods)\n",
    "    num_bads = len(bads)\n",
    "    num_vars = len(bads.columns)-2\n",
    "    if(balance != 0):\n",
    "        if(i == 0):\n",
    "            num_goods_desired = int(min(num_goods,num_bads*balance))\n",
    "            goods = goods.sample(n=num_goods_desired,random_state=1)\n",
    "            goods_keep = list(goods.index)\n",
    "            goods_keep.sort()\n",
    "    \n",
    "        if(i > 0):\n",
    "            goods = goods.loc[goods_keep] \n",
    "            \n",
    "    df_sampled = pd.concat([goods,bads])\n",
    "    df_sampled.sort_index(inplace=True)\n",
    "    filter_score = pd.DataFrame(np.zeros((num_vars+1,2)))\n",
    "    filter_score.columns = ['variable','score']   \n",
    "    j = 0\n",
    "    for column in df_sampled:\n",
    "        filter_score.loc[j,'variable'] = column\n",
    "        filter_score.loc[j,'score'] = sps.ks_2samp(goods[column],bads[column])[0]\n",
    "        j = j+1\n",
    "        if j%100 == 0:\n",
    "            print(j)\n",
    "\n",
    "    filter_score.sort_values(by=['score'], ascending=False, inplace=True)\n",
    "    vars_keep = list(filter_score['variable'][1:num_filter+1]) \n",
    "    print(file_name,filter_score.head(20))\n",
    "    if(i == 0): # if first time through need to initialize some stuff\n",
    "        Y = pd.DataFrame(df_sampled[y_name], index=df_sampled.index)\n",
    "        df_top = df_sampled.filter(vars_keep, axis=1)\n",
    "            \n",
    "    if(i > 0): # if more than one variable file we use this loop\n",
    "        data_new_top = df_sampled.filter(vars_keep, axis=1)\n",
    "        df_top = pd.concat([df_top,data_new_top], axis=1)\n",
    "    \n",
    "    \"\"\"\n",
    "    Not that it matters a lot but I usually put the dataframes in a list and concatenate them after coming out of loop.\n",
    "    Someone at my previous organization said that it was more efficient but I did not check the efficiency benefit myself.\n",
    "    \"\"\"\n",
    "#     filter_score = pd.concat([filter_score,new])\n",
    "    filter_score_df_list.append(filter_score)\n",
    "    \n",
    "    del goods # delete these before starting the next file, if any\n",
    "    del bads\n",
    "    gc.collect()\n",
    "filter_score = pd.concat(filter_score_df_list)"
   ]
  },
  {
   "cell_type": "code",
   "execution_count": 69,
   "metadata": {},
   "outputs": [],
   "source": [
    "filter_score.sort_values(by=['score'], ascending=False, inplace=True)"
   ]
  },
  {
   "cell_type": "code",
   "execution_count": 70,
   "metadata": {},
   "outputs": [],
   "source": [
    "# filter_score[filter_score['variable']=='Merchnum_Zip_total_3']"
   ]
  },
  {
   "cell_type": "code",
   "execution_count": 71,
   "metadata": {},
   "outputs": [
    {
     "data": {
      "text/html": [
       "<div>\n",
       "<style scoped>\n",
       "    .dataframe tbody tr th:only-of-type {\n",
       "        vertical-align: middle;\n",
       "    }\n",
       "\n",
       "    .dataframe tbody tr th {\n",
       "        vertical-align: top;\n",
       "    }\n",
       "\n",
       "    .dataframe thead th {\n",
       "        text-align: right;\n",
       "    }\n",
       "</style>\n",
       "<table border=\"1\" class=\"dataframe\">\n",
       "  <thead>\n",
       "    <tr style=\"text-align: right;\">\n",
       "      <th></th>\n",
       "      <th>variable</th>\n",
       "      <th>score</th>\n",
       "    </tr>\n",
       "  </thead>\n",
       "  <tbody>\n",
       "    <tr>\n",
       "      <th>92</th>\n",
       "      <td>Fraud</td>\n",
       "      <td>1.000000</td>\n",
       "    </tr>\n",
       "    <tr>\n",
       "      <th>398</th>\n",
       "      <td>Fraud</td>\n",
       "      <td>1.000000</td>\n",
       "    </tr>\n",
       "    <tr>\n",
       "      <th>214</th>\n",
       "      <td>Fraud</td>\n",
       "      <td>1.000000</td>\n",
       "    </tr>\n",
       "    <tr>\n",
       "      <th>16</th>\n",
       "      <td>Cardnum_Zip_total_7</td>\n",
       "      <td>0.684885</td>\n",
       "    </tr>\n",
       "    <tr>\n",
       "      <th>111</th>\n",
       "      <td>Cardnum_Merchnum_state_total_7</td>\n",
       "      <td>0.681567</td>\n",
       "    </tr>\n",
       "    <tr>\n",
       "      <th>...</th>\n",
       "      <td>...</td>\n",
       "      <td>...</td>\n",
       "    </tr>\n",
       "    <tr>\n",
       "      <th>2</th>\n",
       "      <td>Merchnum_Zip3_max_0</td>\n",
       "      <td>0.595544</td>\n",
       "    </tr>\n",
       "    <tr>\n",
       "      <th>146</th>\n",
       "      <td>Cardnum_Merchnum_zip3_max_0</td>\n",
       "      <td>0.594525</td>\n",
       "    </tr>\n",
       "    <tr>\n",
       "      <th>171</th>\n",
       "      <td>Merchnum_total_1</td>\n",
       "      <td>0.594367</td>\n",
       "    </tr>\n",
       "    <tr>\n",
       "      <th>78</th>\n",
       "      <td>Cardnum_Merchnum_state_avg_30</td>\n",
       "      <td>0.593361</td>\n",
       "    </tr>\n",
       "    <tr>\n",
       "      <th>332</th>\n",
       "      <td>Cardnum_Merchnum_avg_30</td>\n",
       "      <td>0.593348</td>\n",
       "    </tr>\n",
       "  </tbody>\n",
       "</table>\n",
       "<p>100 rows × 2 columns</p>\n",
       "</div>"
      ],
      "text/plain": [
       "                           variable     score\n",
       "92                            Fraud  1.000000\n",
       "398                           Fraud  1.000000\n",
       "214                           Fraud  1.000000\n",
       "16              Cardnum_Zip_total_7  0.684885\n",
       "111  Cardnum_Merchnum_state_total_7  0.681567\n",
       "..                              ...       ...\n",
       "2               Merchnum_Zip3_max_0  0.595544\n",
       "146     Cardnum_Merchnum_zip3_max_0  0.594525\n",
       "171                Merchnum_total_1  0.594367\n",
       "78    Cardnum_Merchnum_state_avg_30  0.593361\n",
       "332         Cardnum_Merchnum_avg_30  0.593348\n",
       "\n",
       "[100 rows x 2 columns]"
      ]
     },
     "execution_count": 71,
     "metadata": {},
     "output_type": "execute_result"
    }
   ],
   "source": [
    "filter_score.head(100)"
   ]
  },
  {
   "cell_type": "code",
   "execution_count": 72,
   "metadata": {},
   "outputs": [
    {
     "data": {
      "text/plain": [
       "(768, 2)"
      ]
     },
     "execution_count": 72,
     "metadata": {},
     "output_type": "execute_result"
    }
   ],
   "source": [
    "filter_score.shape"
   ]
  },
  {
   "cell_type": "code",
   "execution_count": 73,
   "metadata": {},
   "outputs": [
    {
     "data": {
      "text/plain": [
       "53"
      ]
     },
     "execution_count": 73,
     "metadata": {},
     "output_type": "execute_result"
    }
   ],
   "source": [
    "num_filter+3"
   ]
  },
  {
   "cell_type": "code",
   "execution_count": 11,
   "metadata": {},
   "outputs": [],
   "source": [
    "# filter_score.sort_values(by=['score'], ascending=False, inplace=True)\n",
    "# vars_keep = list(filter_score['variable'][num_files:tot_filter+3])\n",
    "# print(i,' vars_keep:',vars_keep)"
   ]
  },
  {
   "cell_type": "code",
   "execution_count": 74,
   "metadata": {},
   "outputs": [],
   "source": [
    "df_keep = df_top.copy() #since in the loop we filter the top num_filter variables from each file and store them in df_top, we can use that dataframe \n"
   ]
  },
  {
   "cell_type": "code",
   "execution_count": 75,
   "metadata": {
    "scrolled": false
   },
   "outputs": [
    {
     "data": {
      "text/html": [
       "<div>\n",
       "<style scoped>\n",
       "    .dataframe tbody tr th:only-of-type {\n",
       "        vertical-align: middle;\n",
       "    }\n",
       "\n",
       "    .dataframe tbody tr th {\n",
       "        vertical-align: top;\n",
       "    }\n",
       "\n",
       "    .dataframe thead th {\n",
       "        text-align: right;\n",
       "    }\n",
       "</style>\n",
       "<table border=\"1\" class=\"dataframe\">\n",
       "  <thead>\n",
       "    <tr style=\"text-align: right;\">\n",
       "      <th></th>\n",
       "      <th>Cardnum_Zip_total_7</th>\n",
       "      <th>Cardnum_Merchnum_zip_total_7</th>\n",
       "      <th>Cardnum_Zip_total_3</th>\n",
       "      <th>Cardnum_Merchnum_zip3_total_7</th>\n",
       "      <th>Cardnum_state_total_7</th>\n",
       "      <th>Cardnum_Merchnum_zip3_total_14</th>\n",
       "      <th>Cardnum_Zip_total_1</th>\n",
       "      <th>Cardnum_Zip_max_14</th>\n",
       "      <th>Cardnum_Merchnum_max_14</th>\n",
       "      <th>Cardnum_Zip3_total_1</th>\n",
       "      <th>...</th>\n",
       "      <th>Merchnum_Zip3_med_1</th>\n",
       "      <th>Merchnum_Zip_med_1</th>\n",
       "      <th>Merchnum_max_14</th>\n",
       "      <th>Merchnum_Zip3_max_14</th>\n",
       "      <th>Merchnum_med_1</th>\n",
       "      <th>Merchnum_Zip3_avg_14</th>\n",
       "      <th>Merchnum_Zip_med_3</th>\n",
       "      <th>Merchnum_Zip3_med_3</th>\n",
       "      <th>Merchnum_Zip_avg_14</th>\n",
       "      <th>Merchnum_med_3</th>\n",
       "    </tr>\n",
       "    <tr>\n",
       "      <th>Recnum</th>\n",
       "      <th></th>\n",
       "      <th></th>\n",
       "      <th></th>\n",
       "      <th></th>\n",
       "      <th></th>\n",
       "      <th></th>\n",
       "      <th></th>\n",
       "      <th></th>\n",
       "      <th></th>\n",
       "      <th></th>\n",
       "      <th></th>\n",
       "      <th></th>\n",
       "      <th></th>\n",
       "      <th></th>\n",
       "      <th></th>\n",
       "      <th></th>\n",
       "      <th></th>\n",
       "      <th></th>\n",
       "      <th></th>\n",
       "      <th></th>\n",
       "      <th></th>\n",
       "    </tr>\n",
       "  </thead>\n",
       "  <tbody>\n",
       "    <tr>\n",
       "      <th>2995</th>\n",
       "      <td>1023.04</td>\n",
       "      <td>1023.04</td>\n",
       "      <td>174.20</td>\n",
       "      <td>1023.04</td>\n",
       "      <td>1023.04</td>\n",
       "      <td>1023.04</td>\n",
       "      <td>174.20</td>\n",
       "      <td>792.26</td>\n",
       "      <td>792.26</td>\n",
       "      <td>174.20</td>\n",
       "      <td>...</td>\n",
       "      <td>174.20</td>\n",
       "      <td>174.20</td>\n",
       "      <td>2454.99</td>\n",
       "      <td>2454.99</td>\n",
       "      <td>174.20</td>\n",
       "      <td>262.471081</td>\n",
       "      <td>76.825</td>\n",
       "      <td>76.825</td>\n",
       "      <td>262.471081</td>\n",
       "      <td>76.825</td>\n",
       "    </tr>\n",
       "    <tr>\n",
       "      <th>2996</th>\n",
       "      <td>250.00</td>\n",
       "      <td>250.00</td>\n",
       "      <td>250.00</td>\n",
       "      <td>250.00</td>\n",
       "      <td>250.00</td>\n",
       "      <td>250.00</td>\n",
       "      <td>250.00</td>\n",
       "      <td>250.00</td>\n",
       "      <td>250.00</td>\n",
       "      <td>250.00</td>\n",
       "      <td>...</td>\n",
       "      <td>250.00</td>\n",
       "      <td>250.00</td>\n",
       "      <td>250.00</td>\n",
       "      <td>250.00</td>\n",
       "      <td>250.00</td>\n",
       "      <td>176.666667</td>\n",
       "      <td>250.000</td>\n",
       "      <td>250.000</td>\n",
       "      <td>176.666667</td>\n",
       "      <td>250.000</td>\n",
       "    </tr>\n",
       "    <tr>\n",
       "      <th>2997</th>\n",
       "      <td>76.85</td>\n",
       "      <td>76.85</td>\n",
       "      <td>76.85</td>\n",
       "      <td>53.88</td>\n",
       "      <td>76.85</td>\n",
       "      <td>53.88</td>\n",
       "      <td>53.88</td>\n",
       "      <td>53.88</td>\n",
       "      <td>53.88</td>\n",
       "      <td>53.88</td>\n",
       "      <td>...</td>\n",
       "      <td>46.95</td>\n",
       "      <td>40.02</td>\n",
       "      <td>1097.60</td>\n",
       "      <td>999.90</td>\n",
       "      <td>40.02</td>\n",
       "      <td>326.450000</td>\n",
       "      <td>46.950</td>\n",
       "      <td>53.880</td>\n",
       "      <td>241.561765</td>\n",
       "      <td>46.950</td>\n",
       "    </tr>\n",
       "    <tr>\n",
       "      <th>2998</th>\n",
       "      <td>1269.00</td>\n",
       "      <td>1269.00</td>\n",
       "      <td>1269.00</td>\n",
       "      <td>1269.00</td>\n",
       "      <td>1269.00</td>\n",
       "      <td>1269.00</td>\n",
       "      <td>1269.00</td>\n",
       "      <td>1269.00</td>\n",
       "      <td>1269.00</td>\n",
       "      <td>1269.00</td>\n",
       "      <td>...</td>\n",
       "      <td>80.70</td>\n",
       "      <td>80.70</td>\n",
       "      <td>4666.00</td>\n",
       "      <td>4666.00</td>\n",
       "      <td>80.70</td>\n",
       "      <td>921.682759</td>\n",
       "      <td>152.900</td>\n",
       "      <td>152.900</td>\n",
       "      <td>921.682759</td>\n",
       "      <td>152.900</td>\n",
       "    </tr>\n",
       "    <tr>\n",
       "      <th>2999</th>\n",
       "      <td>288.38</td>\n",
       "      <td>288.38</td>\n",
       "      <td>288.38</td>\n",
       "      <td>288.38</td>\n",
       "      <td>288.38</td>\n",
       "      <td>288.38</td>\n",
       "      <td>288.38</td>\n",
       "      <td>288.38</td>\n",
       "      <td>288.38</td>\n",
       "      <td>288.38</td>\n",
       "      <td>...</td>\n",
       "      <td>299.78</td>\n",
       "      <td>299.78</td>\n",
       "      <td>756.08</td>\n",
       "      <td>756.08</td>\n",
       "      <td>299.78</td>\n",
       "      <td>445.100000</td>\n",
       "      <td>377.990</td>\n",
       "      <td>377.990</td>\n",
       "      <td>445.100000</td>\n",
       "      <td>377.990</td>\n",
       "    </tr>\n",
       "  </tbody>\n",
       "</table>\n",
       "<p>5 rows × 150 columns</p>\n",
       "</div>"
      ],
      "text/plain": [
       "        Cardnum_Zip_total_7  Cardnum_Merchnum_zip_total_7  \\\n",
       "Recnum                                                      \n",
       "2995                1023.04                       1023.04   \n",
       "2996                 250.00                        250.00   \n",
       "2997                  76.85                         76.85   \n",
       "2998                1269.00                       1269.00   \n",
       "2999                 288.38                        288.38   \n",
       "\n",
       "        Cardnum_Zip_total_3  Cardnum_Merchnum_zip3_total_7  \\\n",
       "Recnum                                                       \n",
       "2995                 174.20                        1023.04   \n",
       "2996                 250.00                         250.00   \n",
       "2997                  76.85                          53.88   \n",
       "2998                1269.00                        1269.00   \n",
       "2999                 288.38                         288.38   \n",
       "\n",
       "        Cardnum_state_total_7  Cardnum_Merchnum_zip3_total_14  \\\n",
       "Recnum                                                          \n",
       "2995                  1023.04                         1023.04   \n",
       "2996                   250.00                          250.00   \n",
       "2997                    76.85                           53.88   \n",
       "2998                  1269.00                         1269.00   \n",
       "2999                   288.38                          288.38   \n",
       "\n",
       "        Cardnum_Zip_total_1  Cardnum_Zip_max_14  Cardnum_Merchnum_max_14  \\\n",
       "Recnum                                                                     \n",
       "2995                 174.20              792.26                   792.26   \n",
       "2996                 250.00              250.00                   250.00   \n",
       "2997                  53.88               53.88                    53.88   \n",
       "2998                1269.00             1269.00                  1269.00   \n",
       "2999                 288.38              288.38                   288.38   \n",
       "\n",
       "        Cardnum_Zip3_total_1  ...  Merchnum_Zip3_med_1  Merchnum_Zip_med_1  \\\n",
       "Recnum                        ...                                            \n",
       "2995                  174.20  ...               174.20              174.20   \n",
       "2996                  250.00  ...               250.00              250.00   \n",
       "2997                   53.88  ...                46.95               40.02   \n",
       "2998                 1269.00  ...                80.70               80.70   \n",
       "2999                  288.38  ...               299.78              299.78   \n",
       "\n",
       "        Merchnum_max_14  Merchnum_Zip3_max_14  Merchnum_med_1  \\\n",
       "Recnum                                                          \n",
       "2995            2454.99               2454.99          174.20   \n",
       "2996             250.00                250.00          250.00   \n",
       "2997            1097.60                999.90           40.02   \n",
       "2998            4666.00               4666.00           80.70   \n",
       "2999             756.08                756.08          299.78   \n",
       "\n",
       "        Merchnum_Zip3_avg_14  Merchnum_Zip_med_3  Merchnum_Zip3_med_3  \\\n",
       "Recnum                                                                  \n",
       "2995              262.471081              76.825               76.825   \n",
       "2996              176.666667             250.000              250.000   \n",
       "2997              326.450000              46.950               53.880   \n",
       "2998              921.682759             152.900              152.900   \n",
       "2999              445.100000             377.990              377.990   \n",
       "\n",
       "        Merchnum_Zip_avg_14  Merchnum_med_3  \n",
       "Recnum                                       \n",
       "2995             262.471081          76.825  \n",
       "2996             176.666667         250.000  \n",
       "2997             241.561765          46.950  \n",
       "2998             921.682759         152.900  \n",
       "2999             445.100000         377.990  \n",
       "\n",
       "[5 rows x 150 columns]"
      ]
     },
     "execution_count": 75,
     "metadata": {},
     "output_type": "execute_result"
    }
   ],
   "source": [
    "# vars_keep_df = pd.DataFrame({'col':vars_keep})\n",
    "# vars_keep_df.to_csv('vars_keep_filter.csv',index=False)\n",
    "# df_keep = df_top.filter(vars_keep, axis=1)\n",
    "df_keep.head()"
   ]
  },
  {
   "cell_type": "code",
   "execution_count": 76,
   "metadata": {},
   "outputs": [
    {
     "data": {
      "text/plain": [
       "(80983, 150)"
      ]
     },
     "execution_count": 76,
     "metadata": {},
     "output_type": "execute_result"
    }
   ],
   "source": [
    "df_keep.shape"
   ]
  },
  {
   "cell_type": "code",
   "execution_count": 77,
   "metadata": {},
   "outputs": [
    {
     "data": {
      "text/html": [
       "<div>\n",
       "<style scoped>\n",
       "    .dataframe tbody tr th:only-of-type {\n",
       "        vertical-align: middle;\n",
       "    }\n",
       "\n",
       "    .dataframe tbody tr th {\n",
       "        vertical-align: top;\n",
       "    }\n",
       "\n",
       "    .dataframe thead th {\n",
       "        text-align: right;\n",
       "    }\n",
       "</style>\n",
       "<table border=\"1\" class=\"dataframe\">\n",
       "  <thead>\n",
       "    <tr style=\"text-align: right;\">\n",
       "      <th></th>\n",
       "      <th>Fraud</th>\n",
       "    </tr>\n",
       "    <tr>\n",
       "      <th>Recnum</th>\n",
       "      <th></th>\n",
       "    </tr>\n",
       "  </thead>\n",
       "  <tbody>\n",
       "    <tr>\n",
       "      <th>2995</th>\n",
       "      <td>0</td>\n",
       "    </tr>\n",
       "    <tr>\n",
       "      <th>2996</th>\n",
       "      <td>0</td>\n",
       "    </tr>\n",
       "    <tr>\n",
       "      <th>2997</th>\n",
       "      <td>0</td>\n",
       "    </tr>\n",
       "    <tr>\n",
       "      <th>2998</th>\n",
       "      <td>0</td>\n",
       "    </tr>\n",
       "    <tr>\n",
       "      <th>2999</th>\n",
       "      <td>0</td>\n",
       "    </tr>\n",
       "  </tbody>\n",
       "</table>\n",
       "</div>"
      ],
      "text/plain": [
       "        Fraud\n",
       "Recnum       \n",
       "2995        0\n",
       "2996        0\n",
       "2997        0\n",
       "2998        0\n",
       "2999        0"
      ]
     },
     "execution_count": 77,
     "metadata": {},
     "output_type": "execute_result"
    }
   ],
   "source": [
    "Y.head()"
   ]
  },
  {
   "cell_type": "code",
   "execution_count": 78,
   "metadata": {},
   "outputs": [],
   "source": [
    "Y = Y.values\n",
    "Y_save = Y.copy()"
   ]
  },
  {
   "cell_type": "code",
   "execution_count": 79,
   "metadata": {},
   "outputs": [
    {
     "name": "stdout",
     "output_type": "stream",
     "text": [
      "[[0]\n",
      " [0]\n",
      " [0]\n",
      " ...\n",
      " [0]\n",
      " [0]\n",
      " [0]]\n"
     ]
    }
   ],
   "source": [
    "# Y = np.array(Y)\n",
    "X = df_keep\n",
    "print(Y)"
   ]
  },
  {
   "cell_type": "code",
   "execution_count": 80,
   "metadata": {},
   "outputs": [
    {
     "name": "stdout",
     "output_type": "stream",
     "text": [
      "time to here: 16:22:28.963270\n"
     ]
    }
   ],
   "source": [
    "print('time to here:', dt.datetime.now() - start_time)"
   ]
  },
  {
   "cell_type": "code",
   "execution_count": 81,
   "metadata": {},
   "outputs": [
    {
     "name": "stdout",
     "output_type": "stream",
     "text": [
      "(80983, 150) (80983, 1)\n"
     ]
    }
   ],
   "source": [
    "print(X.shape,Y.shape)"
   ]
  },
  {
   "cell_type": "code",
   "execution_count": 82,
   "metadata": {},
   "outputs": [
    {
     "name": "stdout",
     "output_type": "stream",
     "text": [
      "<class 'pandas.core.frame.DataFrame'> <class 'numpy.ndarray'>\n"
     ]
    }
   ],
   "source": [
    "print(type(X),type(Y))"
   ]
  },
  {
   "cell_type": "markdown",
   "metadata": {},
   "source": [
    "## Wrapping <a class=\"anchor\" id=\"third-bullet\"></a>"
   ]
  },
  {
   "cell_type": "code",
   "execution_count": 83,
   "metadata": {},
   "outputs": [],
   "source": [
    "def fdr(classifier, x, y, cutoff=detect_rate):\n",
    "# Calculates FDR score for the given classifier on dataset x and y with cutoff value\n",
    "# get the probability list from the given classifier\n",
    "    return fdr_prob(y, classifier.predict_proba(x), cutoff)\n",
    "def fdr_prob(y, y_prob, cutoff=detect_rate):\n",
    "    if len(y_prob.shape) != 1:    # sometimes the proba list can contain many columns, one for each category\n",
    "        y_prob = y_prob[:, -1:]   # only the last one (fraud_label==1) is used here.\n",
    "    num_fraud = len(y[y == 1])    # count the total nunber of frauds   \n",
    "# sort the proba list from high to low while retain the true (not predicted) fraud label\n",
    "    sorted_prob = np.asarray(sorted(zip(y_prob, y), key=lambda x: x[0], reverse=True))\n",
    "    cutoff_bin = sorted_prob[0:int(len(y) * cutoff), 1:]  # 3% cutoff\n",
    "# return the FDR score (#fraud_in_cutoff / #total_fraud)\n",
    "    return len(cutoff_bin[cutoff_bin == 1]) / num_fraud   "
   ]
  },
  {
   "cell_type": "code",
   "execution_count": 84,
   "metadata": {
    "scrolled": false
   },
   "outputs": [
    {
     "name": "stderr",
     "output_type": "stream",
     "text": [
      "[Parallel(n_jobs=-1)]: Using backend LokyBackend with 8 concurrent workers.\n",
      "[Parallel(n_jobs=-1)]: Done  25 tasks      | elapsed:   24.4s\n",
      "[Parallel(n_jobs=-1)]: Done 150 out of 150 | elapsed:  1.5min finished\n",
      "\n",
      "[2022-06-01 23:31:48] Features: 1/20 -- score: 0.6186848436246992[Parallel(n_jobs=-1)]: Using backend LokyBackend with 8 concurrent workers.\n",
      "[Parallel(n_jobs=-1)]: Done  25 tasks      | elapsed:   19.2s\n",
      "[Parallel(n_jobs=-1)]: Done 149 out of 149 | elapsed:  1.6min finished\n",
      "\n",
      "[2022-06-01 23:33:24] Features: 2/20 -- score: 0.6475942261427426[Parallel(n_jobs=-1)]: Using backend LokyBackend with 8 concurrent workers.\n",
      "[Parallel(n_jobs=-1)]: Done  25 tasks      | elapsed:   21.7s\n",
      "[Parallel(n_jobs=-1)]: Done 148 out of 148 | elapsed:  1.8min finished\n",
      "\n",
      "[2022-06-01 23:35:10] Features: 3/20 -- score: 0.6614942528735632[Parallel(n_jobs=-1)]: Using backend LokyBackend with 8 concurrent workers.\n",
      "[Parallel(n_jobs=-1)]: Done  25 tasks      | elapsed:   23.9s\n",
      "[Parallel(n_jobs=-1)]: Done 147 out of 147 | elapsed:  1.9min finished\n",
      "\n",
      "[2022-06-01 23:37:05] Features: 4/20 -- score: 0.6672146484897087[Parallel(n_jobs=-1)]: Using backend LokyBackend with 8 concurrent workers.\n",
      "[Parallel(n_jobs=-1)]: Done  25 tasks      | elapsed:   24.9s\n",
      "[Parallel(n_jobs=-1)]: Done 146 out of 146 | elapsed:  2.0min finished\n",
      "\n",
      "[2022-06-01 23:39:08] Features: 5/20 -- score: 0.6843758353381449[Parallel(n_jobs=-1)]: Using backend LokyBackend with 8 concurrent workers.\n",
      "[Parallel(n_jobs=-1)]: Done  25 tasks      | elapsed:   27.3s\n",
      "[Parallel(n_jobs=-1)]: Done 145 out of 145 | elapsed:  2.2min finished\n",
      "\n",
      "[2022-06-01 23:41:23] Features: 6/20 -- score: 0.6845629510825982[Parallel(n_jobs=-1)]: Using backend LokyBackend with 8 concurrent workers.\n",
      "[Parallel(n_jobs=-1)]: Done  25 tasks      | elapsed:   31.7s\n",
      "[Parallel(n_jobs=-1)]: Done 144 out of 144 | elapsed:  2.3min finished\n",
      "\n",
      "[2022-06-01 23:43:41] Features: 7/20 -- score: 0.698356054530874[Parallel(n_jobs=-1)]: Using backend LokyBackend with 8 concurrent workers.\n",
      "[Parallel(n_jobs=-1)]: Done  25 tasks      | elapsed:   31.6s\n",
      "[Parallel(n_jobs=-1)]: Done 143 out of 143 | elapsed:  2.4min finished\n",
      "\n",
      "[2022-06-01 23:46:05] Features: 8/20 -- score: 0.7053461641272387[Parallel(n_jobs=-1)]: Using backend LokyBackend with 8 concurrent workers.\n",
      "[Parallel(n_jobs=-1)]: Done  25 tasks      | elapsed:   33.6s\n",
      "[Parallel(n_jobs=-1)]: Done 142 out of 142 | elapsed:  2.5min finished\n",
      "\n",
      "[2022-06-01 23:48:37] Features: 9/20 -- score: 0.7053461641272387[Parallel(n_jobs=-1)]: Using backend LokyBackend with 8 concurrent workers.\n",
      "[Parallel(n_jobs=-1)]: Done  25 tasks      | elapsed:   35.0s\n",
      "[Parallel(n_jobs=-1)]: Done 141 out of 141 | elapsed:  2.7min finished\n",
      "\n",
      "[2022-06-01 23:51:18] Features: 10/20 -- score: 0.7053461641272387[Parallel(n_jobs=-1)]: Using backend LokyBackend with 8 concurrent workers.\n",
      "[Parallel(n_jobs=-1)]: Done  25 tasks      | elapsed:   37.0s\n",
      "[Parallel(n_jobs=-1)]: Done 140 out of 140 | elapsed:  2.8min finished\n",
      "\n",
      "[2022-06-01 23:54:06] Features: 11/20 -- score: 0.7053461641272387[Parallel(n_jobs=-1)]: Using backend LokyBackend with 8 concurrent workers.\n",
      "[Parallel(n_jobs=-1)]: Done  25 tasks      | elapsed:   38.8s\n",
      "[Parallel(n_jobs=-1)]: Done 139 out of 139 | elapsed:  2.9min finished\n",
      "\n",
      "[2022-06-01 23:57:03] Features: 12/20 -- score: 0.7053461641272387[Parallel(n_jobs=-1)]: Using backend LokyBackend with 8 concurrent workers.\n",
      "[Parallel(n_jobs=-1)]: Done  25 tasks      | elapsed:   41.3s\n",
      "[Parallel(n_jobs=-1)]: Done 138 out of 138 | elapsed:  3.9min finished\n",
      "\n",
      "[2022-06-02 00:00:58] Features: 13/20 -- score: 0.7053461641272387[Parallel(n_jobs=-1)]: Using backend LokyBackend with 8 concurrent workers.\n",
      "[Parallel(n_jobs=-1)]: Done  25 tasks      | elapsed:   54.1s\n",
      "[Parallel(n_jobs=-1)]: Done 137 out of 137 | elapsed:  4.0min finished\n",
      "\n",
      "[2022-06-02 00:04:59] Features: 14/20 -- score: 0.7053461641272387[Parallel(n_jobs=-1)]: Using backend LokyBackend with 8 concurrent workers.\n",
      "[Parallel(n_jobs=-1)]: Done  25 tasks      | elapsed:   56.4s\n",
      "[Parallel(n_jobs=-1)]: Done 136 out of 136 | elapsed:  4.1min finished\n",
      "\n",
      "[2022-06-02 00:09:03] Features: 15/20 -- score: 0.7053461641272387[Parallel(n_jobs=-1)]: Using backend LokyBackend with 8 concurrent workers.\n",
      "[Parallel(n_jobs=-1)]: Done  25 tasks      | elapsed:  1.1min\n",
      "[Parallel(n_jobs=-1)]: Done 135 out of 135 | elapsed:  4.5min finished\n",
      "\n",
      "[2022-06-02 00:13:33] Features: 16/20 -- score: 0.7053461641272387[Parallel(n_jobs=-1)]: Using backend LokyBackend with 8 concurrent workers.\n",
      "[Parallel(n_jobs=-1)]: Done  25 tasks      | elapsed:   53.4s\n",
      "[Parallel(n_jobs=-1)]: Done 134 out of 134 | elapsed:  3.8min finished\n",
      "\n",
      "[2022-06-02 00:17:19] Features: 17/20 -- score: 0.7053461641272387[Parallel(n_jobs=-1)]: Using backend LokyBackend with 8 concurrent workers.\n",
      "[Parallel(n_jobs=-1)]: Done  25 tasks      | elapsed:   53.6s\n",
      "[Parallel(n_jobs=-1)]: Done 133 out of 133 | elapsed:  3.9min finished\n",
      "\n",
      "[2022-06-02 00:21:11] Features: 18/20 -- score: 0.7053461641272387[Parallel(n_jobs=-1)]: Using backend LokyBackend with 8 concurrent workers.\n",
      "[Parallel(n_jobs=-1)]: Done  25 tasks      | elapsed:   55.9s\n",
      "[Parallel(n_jobs=-1)]: Done 132 out of 132 | elapsed:  3.9min finished\n",
      "\n",
      "[2022-06-02 00:25:08] Features: 19/20 -- score: 0.7053461641272387[Parallel(n_jobs=-1)]: Using backend LokyBackend with 8 concurrent workers.\n",
      "[Parallel(n_jobs=-1)]: Done  25 tasks      | elapsed:   58.1s\n",
      "[Parallel(n_jobs=-1)]: Done 131 out of 131 | elapsed:  4.1min finished\n"
     ]
    },
    {
     "name": "stdout",
     "output_type": "stream",
     "text": [
      "Wall time: 58min 52s\n"
     ]
    },
    {
     "name": "stderr",
     "output_type": "stream",
     "text": [
      "\n",
      "[2022-06-02 00:29:12] Features: 20/20 -- score: 0.7053461641272387"
     ]
    },
    {
     "data": {
      "text/plain": [
       "SequentialFeatureSelector(cv=10,\n",
       "                          estimator=LGBMClassifier(n_estimators=30,\n",
       "                                                   num_leaves=3),\n",
       "                          k_features=20, n_jobs=-1,\n",
       "                          scoring=<function fdr at 0x00000274A2DFF3A0>,\n",
       "                          verbose=2)"
      ]
     },
     "execution_count": 84,
     "metadata": {},
     "output_type": "execute_result"
    }
   ],
   "source": [
    "%%time\n",
    "import warnings \n",
    "warnings.filterwarnings(\"ignore\", category=np.VisibleDeprecationWarning) \n",
    "# If you're doing forward selection it's enough to stop at num_wrapper variables. \n",
    "# If you're doing backward selection you need to go through all the variables to get \n",
    "# a sorted list of num_wrapper variables.\n",
    "nfeatures = len(X.columns)\n",
    "# clf = RandomForestClassifier(n_estimators=5) # simple, fast nonlinear model for the wrapper\n",
    "clf = LGBMClassifier(n_estimators=30,num_leaves=3) # simple, fast nonlinear model for the wrapper\n",
    "sfs = SFS(clf,k_features=num_wrapper,forward=True,verbose=2,scoring=fdr,cv=10,n_jobs=-1) # forward selection\n",
    "# sfs = SFS(clf,k_features=1,forward=False,verbose=2,scoring=fdr,cv=2,n_jobs=-1) # backward selection\n",
    "sfs.fit(X,Y)"
   ]
  },
  {
   "cell_type": "code",
   "execution_count": 85,
   "metadata": {},
   "outputs": [
    {
     "data": {
      "image/png": "[encoded data removed]",
      "text/plain": [
       "<Figure size 1080x432 with 1 Axes>"
      ]
     },
     "metadata": {
      "needs_background": "light"
     },
     "output_type": "display_data"
    }
   ],
   "source": [
    "from mlxtend.plotting import plot_sequential_feature_selection as plot_sfs\n",
    "fig1 = plot_sfs(sfs.get_metric_dict(),kind='std_dev', figsize=(15, 6))\n",
    "plt.xticks(np.arange(0, len(X.columns), step=5))\n",
    "plt.yticks(np.arange(0,1,step=.1))\n",
    "plt.ylim([0., 1])\n",
    "plt.xlim(0,num_wrapper)\n",
    "plt.title('Stepwise Selection')\n",
    "plt.grid()\n",
    "plt.savefig('FS_fdr.png')\n",
    "plt.show()"
   ]
  },
  {
   "cell_type": "markdown",
   "metadata": {},
   "source": [
    "## Storing the variables <a class=\"anchor\" id=\"fourth-bullet\"></a>"
   ]
  },
  {
   "cell_type": "code",
   "execution_count": 86,
   "metadata": {
    "scrolled": false
   },
   "outputs": [],
   "source": [
    "vars_FS = pd.DataFrame.from_dict(sfs.get_metric_dict()).T"
   ]
  },
  {
   "cell_type": "code",
   "execution_count": 87,
   "metadata": {},
   "outputs": [
    {
     "data": {
      "text/plain": [
       "Index(['feature_idx', 'cv_scores', 'avg_score', 'feature_names', 'ci_bound',\n",
       "       'std_dev', 'std_err'],\n",
       "      dtype='object')"
      ]
     },
     "execution_count": 87,
     "metadata": {},
     "output_type": "execute_result"
    }
   ],
   "source": [
    "vars_FS.columns"
   ]
  },
  {
   "cell_type": "code",
   "execution_count": 88,
   "metadata": {},
   "outputs": [],
   "source": [
    "vars_FS['Previous Features'] = vars_FS.feature_names.shift().fillna('')"
   ]
  },
  {
   "cell_type": "code",
   "execution_count": 89,
   "metadata": {},
   "outputs": [],
   "source": [
    "vars_FS['New Feature'] = vars_FS.apply(lambda x : list(set(x['feature_names']) - set(x['Previous Features']))[0], axis = 1) "
   ]
  },
  {
   "cell_type": "code",
   "execution_count": 90,
   "metadata": {},
   "outputs": [],
   "source": [
    "vars_final = [i for i in vars_FS['New Feature']]"
   ]
  },
  {
   "cell_type": "code",
   "execution_count": 35,
   "metadata": {},
   "outputs": [],
   "source": [
    "# ordered_vars_FS = vars_FS.copy()\n",
    "# for i in range(len(ordered_vars_FS)):\n",
    "#     ordered_vars_FS.loc[i+1,'add variables in this order'] = int(i+1)\n",
    "#     if i+1 == 1:\n",
    "#         ordered_vars_FS.loc[i+1,'variable name'] = list(ordered_vars_FS.loc[i+1,'feature_names'])[0]\n",
    "#     else:\n",
    "#         ordered_vars_FS.loc[i+1,'variable name'] = set(ordered_vars_FS.loc[i+1,'feature_names']) - set(ordered_vars_FS.loc[i,'feature_names'])"
   ]
  },
  {
   "cell_type": "code",
   "execution_count": null,
   "metadata": {},
   "outputs": [],
   "source": [
    "# ['Cardnum_Merchnum_total_7',\n",
    "#  'Cardnum_state_max_14',\n",
    "#  'Merchnum_Zip3_max_14',\n",
    "#  'Cardnum_Merchnum_total_14',\n",
    "#  'Cardnum_Merchnum_state_total_7',\n",
    "#  'Merchnum_med_3',\n",
    "#  'Cardnum_Merchnum_zip_total_30',\n",
    "#  'Cardnum_Merchnum_zip3_total_7',\n",
    "#  'Merchnum_med_0',\n",
    "#  'Merchnum_Zip_med_1',\n",
    "#  'Merchnum_Zip_med_0',\n",
    "#  'Merchnum_Zip3_med_1',\n",
    "#  'Merchnum_med_1',\n",
    "#  'Merchnum_Zip3_med_3',\n",
    "#  'Merchnum_Zip_med_3',\n",
    "#  'Cardnum_Merchnum_total_30',\n",
    "#  'Cardnum_Merchnum_state_total_30',\n",
    "#  'Cardnum_Merchnum_zip3_total_14',\n",
    "#  'Cardnum_Merchnum_zip_total_14',\n",
    "#  'Cardnum_Merchnum_state_total_14']"
   ]
  },
  {
   "cell_type": "code",
   "execution_count": 91,
   "metadata": {},
   "outputs": [
    {
     "data": {
      "text/plain": [
       "['Cardnum_Merchnum_zip_total_7',\n",
       " 'Cardnum_state_max_3',\n",
       " 'Merchnum_Zip3_avg_14',\n",
       " 'Merchnum_Zip3_max_14',\n",
       " 'Cardnum_Merchnum_zip_med_30',\n",
       " 'Cardnum_Zip_max_3',\n",
       " 'Cardnum_Merchnum_zip3_total_30',\n",
       " 'Cardnum_Merchnum_zip3_max_14',\n",
       " 'Cardnum_Merchnum_state_avg_1',\n",
       " 'Cardnum_Merchnum_zip3_avg_0',\n",
       " 'Cardnum_Zip_avg_0',\n",
       " 'Cardnum_Merchnum_zip_avg_0',\n",
       " 'Cardnum_Merchnum_zip3_med_1',\n",
       " 'Cardnum_Zip3_med_30',\n",
       " 'Cardnum_Merchnum_med_0',\n",
       " 'Cardnum_Merchnum_state_med_0',\n",
       " 'Cardnum_Zip_med_0',\n",
       " 'Cardnum_Zip_med_30',\n",
       " 'Cardnum_Zip3_max_3',\n",
       " 'Merchnum_Zip3_med_0']"
      ]
     },
     "execution_count": 91,
     "metadata": {},
     "output_type": "execute_result"
    }
   ],
   "source": [
    "vars_final"
   ]
  },
  {
   "cell_type": "code",
   "execution_count": 92,
   "metadata": {
    "scrolled": true
   },
   "outputs": [],
   "source": [
    "# vars_keep = ordered_vars_FS['variable name']\n",
    "# vars_keep_list = ordered_vars_FS['variable name'].tolist()\n",
    "vars_FS.filter(['New Feature','avg_score']).to_excel('final_vars_list.xlsx')"
   ]
  },
  {
   "cell_type": "code",
   "execution_count": null,
   "metadata": {
    "scrolled": false
   },
   "outputs": [],
   "source": [
    "# vars_keep_list.append(index_name)\n",
    "# vars_keep_list.append(y_name)\n",
    "# vars_keep_list"
   ]
  },
  {
   "cell_type": "code",
   "execution_count": null,
   "metadata": {},
   "outputs": [],
   "source": [
    "# final1.columns"
   ]
  },
  {
   "cell_type": "code",
   "execution_count": 93,
   "metadata": {},
   "outputs": [],
   "source": [
    "#reading the original variable files to have the final dataframe that would be input to the model algos. We cannot use df_keep created before because that could be downsampled if balance!=0 and it does not have oot data. \n",
    "final_df_l = []\n",
    "for i in fileList:\n",
    "    if i==fileList[0]:\n",
    "        final_df = pd.read_csv(i).filter(vars_final + [y_name,index_name])\n",
    "    else:\n",
    "        final_df = pd.read_csv(i).filter(vars_final)\n",
    "    final_df_l.append(final_df)\n",
    "df_keep = pd.concat(final_df_l,axis = 1)"
   ]
  },
  {
   "cell_type": "code",
   "execution_count": 94,
   "metadata": {},
   "outputs": [
    {
     "name": "stdout",
     "output_type": "stream",
     "text": [
      "(96397, 22)\n"
     ]
    }
   ],
   "source": [
    "# df_keep = df.filter(vars_keep_list, axis=1)\n",
    "print(df_keep.shape)"
   ]
  },
  {
   "cell_type": "code",
   "execution_count": 95,
   "metadata": {},
   "outputs": [],
   "source": [
    "df_keep.to_csv('vars_final.csv',index=False)"
   ]
  },
  {
   "cell_type": "code",
   "execution_count": null,
   "metadata": {},
   "outputs": [],
   "source": []
  }
 ],
 "metadata": {
  "anaconda-cloud": {},
  "kernelspec": {
   "display_name": "Python 3",
   "language": "python",
   "name": "python3"
  },
  "language_info": {
   "codemirror_mode": {
    "name": "ipython",
    "version": 3
   },
   "file_extension": ".py",
   "mimetype": "text/x-python",
   "name": "python",
   "nbconvert_exporter": "python",
   "pygments_lexer": "ipython3",
   "version": "3.8.8"
  }
 },
 "nbformat": 4,
 "nbformat_minor": 1
}
