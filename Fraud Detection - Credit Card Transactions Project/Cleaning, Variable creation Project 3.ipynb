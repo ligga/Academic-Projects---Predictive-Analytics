{
 "cells": [
  {
   "cell_type": "markdown",
   "id": "e24979e7",
   "metadata": {},
   "source": [
    "## Contents\n",
    "* [1. <b> Data Cleaning </b>](#first-bullet)\n",
    "* [1.1 Exclusions and outliers removal](#second-bullet)\n",
    "* [1.2 Imputation](#third-bullet)\n",
    "* [2. <b> Feature Engineering </b>](#fourth-bullet)\n",
    "* [2.1 Target Encoding](#fifth-bullet)\n",
    "* [2.2 Benford law variables](#sixth-bullet)\n",
    "* [2.3 Other interesting variables](#seventh-bullet)\n",
    "* [3 <b> Storing the variables </b>](#eigth-bullet)"
   ]
  },
  {
   "cell_type": "markdown",
   "id": "bdfe027f",
   "metadata": {},
   "source": [
    "## Introduction"
   ]
  },
  {
   "cell_type": "markdown",
   "id": "392ce0df",
   "metadata": {},
   "source": [
    "This code cleans the data, imputes missing values and performs feature engineering.\n",
    "In the end it divides the variables into 3 parts so that it is easier to process them during feature selection."
   ]
  },
  {
   "cell_type": "code",
   "execution_count": 1,
   "id": "16360d08",
   "metadata": {},
   "outputs": [],
   "source": [
    "from timeit import default_timer as timer\n",
    "import pandas as pd\n",
    "import scipy.stats\n",
    "import numpy as np\n",
    "import datetime as dt\n",
    "import seaborn as sns\n",
    "import matplotlib.pyplot as plt\n",
    "import calendar\n",
    "import time\n",
    "from itertools import permutations\n",
    "%matplotlib inline\n",
    "start_time = timer()"
   ]
  },
  {
   "cell_type": "code",
   "execution_count": 2,
   "id": "c3cb5e47",
   "metadata": {},
   "outputs": [
    {
     "name": "stdout",
     "output_type": "stream",
     "text": [
      "Duration:  0.00 minutes, or 0 seconds\n"
     ]
    }
   ],
   "source": [
    "print(f'Duration: {(timer() - start_time) / 60: 0.2f} minutes, or{(timer() - start_time): 0.0f} seconds')"
   ]
  },
  {
   "cell_type": "markdown",
   "id": "6ded820f",
   "metadata": {},
   "source": [
    "## Data Cleaning <a class=\"anchor\" id=\"first-bullet\"></a>"
   ]
  },
  {
   "cell_type": "code",
   "execution_count": 3,
   "id": "49b2442f",
   "metadata": {},
   "outputs": [],
   "source": [
    "data = pd.read_csv('card transactions.csv')"
   ]
  },
  {
   "cell_type": "code",
   "execution_count": 4,
   "id": "d1e502b8",
   "metadata": {},
   "outputs": [
    {
     "data": {
      "text/html": [
       "<div>\n",
       "<style scoped>\n",
       "    .dataframe tbody tr th:only-of-type {\n",
       "        vertical-align: middle;\n",
       "    }\n",
       "\n",
       "    .dataframe tbody tr th {\n",
       "        vertical-align: top;\n",
       "    }\n",
       "\n",
       "    .dataframe thead th {\n",
       "        text-align: right;\n",
       "    }\n",
       "</style>\n",
       "<table border=\"1\" class=\"dataframe\">\n",
       "  <thead>\n",
       "    <tr style=\"text-align: right;\">\n",
       "      <th></th>\n",
       "      <th>Recnum</th>\n",
       "      <th>Cardnum</th>\n",
       "      <th>Date</th>\n",
       "      <th>Merchnum</th>\n",
       "      <th>Merch description</th>\n",
       "      <th>Merch state</th>\n",
       "      <th>Merch zip</th>\n",
       "      <th>Transtype</th>\n",
       "      <th>Amount</th>\n",
       "      <th>Fraud</th>\n",
       "    </tr>\n",
       "  </thead>\n",
       "  <tbody>\n",
       "    <tr>\n",
       "      <th>0</th>\n",
       "      <td>1</td>\n",
       "      <td>5142190439</td>\n",
       "      <td>2006-01-01</td>\n",
       "      <td>5509006296254</td>\n",
       "      <td>FEDEX SHP 12/23/09 AB#</td>\n",
       "      <td>TN</td>\n",
       "      <td>38118.0</td>\n",
       "      <td>P</td>\n",
       "      <td>3.62</td>\n",
       "      <td>0</td>\n",
       "    </tr>\n",
       "    <tr>\n",
       "      <th>1</th>\n",
       "      <td>2</td>\n",
       "      <td>5142183973</td>\n",
       "      <td>2006-01-01</td>\n",
       "      <td>61003026333</td>\n",
       "      <td>SERVICE MERCHANDISE #81</td>\n",
       "      <td>MA</td>\n",
       "      <td>1803.0</td>\n",
       "      <td>P</td>\n",
       "      <td>31.42</td>\n",
       "      <td>0</td>\n",
       "    </tr>\n",
       "    <tr>\n",
       "      <th>2</th>\n",
       "      <td>3</td>\n",
       "      <td>5142131721</td>\n",
       "      <td>2006-01-01</td>\n",
       "      <td>4503082993600</td>\n",
       "      <td>OFFICE DEPOT #191</td>\n",
       "      <td>MD</td>\n",
       "      <td>20706.0</td>\n",
       "      <td>P</td>\n",
       "      <td>178.49</td>\n",
       "      <td>0</td>\n",
       "    </tr>\n",
       "    <tr>\n",
       "      <th>3</th>\n",
       "      <td>4</td>\n",
       "      <td>5142148452</td>\n",
       "      <td>2006-01-01</td>\n",
       "      <td>5509006296254</td>\n",
       "      <td>FEDEX SHP 12/28/09 AB#</td>\n",
       "      <td>TN</td>\n",
       "      <td>38118.0</td>\n",
       "      <td>P</td>\n",
       "      <td>3.62</td>\n",
       "      <td>0</td>\n",
       "    </tr>\n",
       "    <tr>\n",
       "      <th>4</th>\n",
       "      <td>5</td>\n",
       "      <td>5142190439</td>\n",
       "      <td>2006-01-01</td>\n",
       "      <td>5509006296254</td>\n",
       "      <td>FEDEX SHP 12/23/09 AB#</td>\n",
       "      <td>TN</td>\n",
       "      <td>38118.0</td>\n",
       "      <td>P</td>\n",
       "      <td>3.62</td>\n",
       "      <td>0</td>\n",
       "    </tr>\n",
       "  </tbody>\n",
       "</table>\n",
       "</div>"
      ],
      "text/plain": [
       "   Recnum     Cardnum        Date       Merchnum        Merch description  \\\n",
       "0       1  5142190439  2006-01-01  5509006296254   FEDEX SHP 12/23/09 AB#   \n",
       "1       2  5142183973  2006-01-01    61003026333  SERVICE MERCHANDISE #81   \n",
       "2       3  5142131721  2006-01-01  4503082993600        OFFICE DEPOT #191   \n",
       "3       4  5142148452  2006-01-01  5509006296254   FEDEX SHP 12/28/09 AB#   \n",
       "4       5  5142190439  2006-01-01  5509006296254   FEDEX SHP 12/23/09 AB#   \n",
       "\n",
       "  Merch state  Merch zip Transtype  Amount  Fraud  \n",
       "0          TN    38118.0         P    3.62      0  \n",
       "1          MA     1803.0         P   31.42      0  \n",
       "2          MD    20706.0         P  178.49      0  \n",
       "3          TN    38118.0         P    3.62      0  \n",
       "4          TN    38118.0         P    3.62      0  "
      ]
     },
     "execution_count": 4,
     "metadata": {},
     "output_type": "execute_result"
    }
   ],
   "source": [
    "data.head()"
   ]
  },
  {
   "cell_type": "code",
   "execution_count": 5,
   "id": "b4dff827",
   "metadata": {},
   "outputs": [
    {
     "data": {
      "text/plain": [
       "(96753, 10)"
      ]
     },
     "execution_count": 5,
     "metadata": {},
     "output_type": "execute_result"
    }
   ],
   "source": [
    "data.shape"
   ]
  },
  {
   "cell_type": "code",
   "execution_count": 6,
   "id": "aa92bc86",
   "metadata": {},
   "outputs": [],
   "source": [
    "data['Date'] = pd.to_datetime(data['Date'])"
   ]
  },
  {
   "cell_type": "code",
   "execution_count": 7,
   "id": "072c43f7",
   "metadata": {},
   "outputs": [],
   "source": [
    "data['Merch zip'] = data['Merch zip'].fillna(0).astype('int').astype('str').str.zfill(5)"
   ]
  },
  {
   "cell_type": "code",
   "execution_count": 8,
   "id": "171cd7b6",
   "metadata": {},
   "outputs": [
    {
     "data": {
      "text/plain": [
       "38118    11868\n",
       "00000     4656\n",
       "63103     1650\n",
       "08701     1267\n",
       "22202     1250\n",
       "         ...  \n",
       "15312        1\n",
       "63111        1\n",
       "85628        1\n",
       "73102        1\n",
       "80934        1\n",
       "Name: Merch zip, Length: 4568, dtype: int64"
      ]
     },
     "execution_count": 8,
     "metadata": {},
     "output_type": "execute_result"
    }
   ],
   "source": [
    "data['Merch zip'].value_counts() #0000 is missing value"
   ]
  },
  {
   "cell_type": "code",
   "execution_count": 9,
   "id": "1356567f",
   "metadata": {},
   "outputs": [],
   "source": [
    "data['zip3'] = data['Merch zip'].str.slice(start = -3,stop = 5)"
   ]
  },
  {
   "cell_type": "code",
   "execution_count": 10,
   "id": "45afe2fc",
   "metadata": {},
   "outputs": [
    {
     "data": {
      "text/plain": [
       "0        118\n",
       "1        803\n",
       "2        706\n",
       "3        118\n",
       "4        118\n",
       "        ... \n",
       "96748    042\n",
       "96749    248\n",
       "96750    150\n",
       "96751    656\n",
       "96752    606\n",
       "Name: zip3, Length: 96753, dtype: object"
      ]
     },
     "execution_count": 10,
     "metadata": {},
     "output_type": "execute_result"
    }
   ],
   "source": [
    "data['zip3']"
   ]
  },
  {
   "cell_type": "code",
   "execution_count": 11,
   "id": "21e939b7",
   "metadata": {},
   "outputs": [],
   "source": [
    "data['Merch zip'] = data['Merch zip'].replace('00000',np.nan)"
   ]
  },
  {
   "cell_type": "code",
   "execution_count": 12,
   "id": "2287d48a",
   "metadata": {},
   "outputs": [],
   "source": [
    "data['zip3'] = data['zip3'].replace('000',np.nan)"
   ]
  },
  {
   "cell_type": "markdown",
   "id": "c8fff63f",
   "metadata": {},
   "source": [
    "### Exclusions and outliers removal <a class=\"anchor\" id=\"second-bullet\"></a>"
   ]
  },
  {
   "cell_type": "code",
   "execution_count": 13,
   "id": "e2e5fa47",
   "metadata": {},
   "outputs": [],
   "source": [
    "#Remove all but the “P” transactions. \n",
    "data = data[data['Transtype']=='P']"
   ]
  },
  {
   "cell_type": "code",
   "execution_count": 14,
   "id": "40855b48",
   "metadata": {},
   "outputs": [],
   "source": [
    "#Single large transaction outlier\n",
    "data['Amount'].value_counts().reset_index().sort_values(by = 'index')\n",
    "data = data[data['Amount']<3000000]"
   ]
  },
  {
   "cell_type": "code",
   "execution_count": 15,
   "id": "8305ffbd",
   "metadata": {},
   "outputs": [
    {
     "data": {
      "text/plain": [
       "(96397, 11)"
      ]
     },
     "execution_count": 15,
     "metadata": {},
     "output_type": "execute_result"
    }
   ],
   "source": [
    "data.shape"
   ]
  },
  {
   "cell_type": "markdown",
   "id": "eadcabf3",
   "metadata": {},
   "source": [
    "### Imputation <a class=\"anchor\" id=\"third-bullet\"></a>"
   ]
  },
  {
   "cell_type": "markdown",
   "id": "7738b25f",
   "metadata": {},
   "source": [
    "#### merchnum"
   ]
  },
  {
   "cell_type": "code",
   "execution_count": 16,
   "id": "d12f4e60",
   "metadata": {},
   "outputs": [
    {
     "data": {
      "text/plain": [
       "930090121224     9310\n",
       "NaN              3251\n",
       "5509006296254    2131\n",
       "9900020006406    1714\n",
       "602608969534     1092\n",
       "                 ... \n",
       "8000880818800       1\n",
       "2200000003085       1\n",
       "607960237330        1\n",
       "9600063580068       1\n",
       "912100650006        1\n",
       "Name: Merchnum, Length: 13090, dtype: int64"
      ]
     },
     "execution_count": 16,
     "metadata": {},
     "output_type": "execute_result"
    }
   ],
   "source": [
    "#If zero replace with nan\n",
    "data['Merchnum'] = data['Merchnum'].replace('0',np.nan)\n",
    "data['Merchnum'].value_counts(dropna = False)"
   ]
  },
  {
   "cell_type": "code",
   "execution_count": 17,
   "id": "ff1a2cca",
   "metadata": {},
   "outputs": [],
   "source": [
    "#this is not the mode imputation logic. Check ZYMARK CORPORATION\n",
    "# merchdes_merchnum = {}\n",
    "# for index, merchdes in data[data['Merch description'].notnull()]['Merch description'].items():\n",
    "#     if merchdes not in merchdes_merchnum :\n",
    "#         merchdes_merchnum[merchdes] = data.loc[index, 'Merchnum']\n"
   ]
  },
  {
   "cell_type": "code",
   "execution_count": 18,
   "id": "a600d703",
   "metadata": {},
   "outputs": [],
   "source": [
    "merchdes_merchnum = data[~pd.isnull(data['Merchnum'])].groupby(['Merch description'])['Merchnum'].apply(lambda x: x.mode()[0])"
   ]
  },
  {
   "cell_type": "code",
   "execution_count": 19,
   "id": "dff5e46c",
   "metadata": {},
   "outputs": [
    {
     "data": {
      "text/plain": [
       "930090121224     178\n",
       "4060500620006    110\n",
       "5509006296254     94\n",
       "7284720084825     27\n",
       "8664000639778     22\n",
       "                ... \n",
       "935049353222       1\n",
       "6070081910003      1\n",
       "490901561229       1\n",
       "5000001134         1\n",
       "912100650006       1\n",
       "Name: Merchnum, Length: 11697, dtype: int64"
      ]
     },
     "execution_count": 19,
     "metadata": {},
     "output_type": "execute_result"
    }
   ],
   "source": [
    "merchdes_merchnum.value_counts()"
   ]
  },
  {
   "cell_type": "code",
   "execution_count": 20,
   "id": "3a633e51",
   "metadata": {},
   "outputs": [
    {
     "data": {
      "text/plain": [
       "Recnum                                    202\n",
       "Cardnum                            5142140436\n",
       "Date                      2006-01-03 00:00:00\n",
       "Merchnum                                  NaN\n",
       "Merch description    MONTGOMERY COLLEGE-PHONE\n",
       "Merch state                                MD\n",
       "Merch zip                               20850\n",
       "Transtype                                   P\n",
       "Amount                                  266.0\n",
       "Fraud                                       0\n",
       "zip3                                      850\n",
       "Name: 201, dtype: object"
      ]
     },
     "execution_count": 20,
     "metadata": {},
     "output_type": "execute_result"
    }
   ],
   "source": [
    "data.loc[201]"
   ]
  },
  {
   "cell_type": "code",
   "execution_count": 21,
   "id": "a8f749b5",
   "metadata": {},
   "outputs": [
    {
     "data": {
      "text/html": [
       "<div>\n",
       "<style scoped>\n",
       "    .dataframe tbody tr th:only-of-type {\n",
       "        vertical-align: middle;\n",
       "    }\n",
       "\n",
       "    .dataframe tbody tr th {\n",
       "        vertical-align: top;\n",
       "    }\n",
       "\n",
       "    .dataframe thead th {\n",
       "        text-align: right;\n",
       "    }\n",
       "</style>\n",
       "<table border=\"1\" class=\"dataframe\">\n",
       "  <thead>\n",
       "    <tr style=\"text-align: right;\">\n",
       "      <th></th>\n",
       "      <th>Recnum</th>\n",
       "      <th>Cardnum</th>\n",
       "      <th>Date</th>\n",
       "      <th>Merchnum</th>\n",
       "      <th>Merch description</th>\n",
       "      <th>Merch state</th>\n",
       "      <th>Merch zip</th>\n",
       "      <th>Transtype</th>\n",
       "      <th>Amount</th>\n",
       "      <th>Fraud</th>\n",
       "      <th>zip3</th>\n",
       "    </tr>\n",
       "  </thead>\n",
       "  <tbody>\n",
       "    <tr>\n",
       "      <th>201</th>\n",
       "      <td>202</td>\n",
       "      <td>5142140436</td>\n",
       "      <td>2006-01-03</td>\n",
       "      <td>NaN</td>\n",
       "      <td>MONTGOMERY COLLEGE-PHONE</td>\n",
       "      <td>MD</td>\n",
       "      <td>20850</td>\n",
       "      <td>P</td>\n",
       "      <td>266.00</td>\n",
       "      <td>0</td>\n",
       "      <td>850</td>\n",
       "    </tr>\n",
       "    <tr>\n",
       "      <th>39516</th>\n",
       "      <td>39517</td>\n",
       "      <td>5142141115</td>\n",
       "      <td>2006-05-26</td>\n",
       "      <td>NaN</td>\n",
       "      <td>MONTGOMERY COLLEGE-PHONE</td>\n",
       "      <td>MD</td>\n",
       "      <td>20850</td>\n",
       "      <td>P</td>\n",
       "      <td>58.45</td>\n",
       "      <td>0</td>\n",
       "      <td>850</td>\n",
       "    </tr>\n",
       "    <tr>\n",
       "      <th>64192</th>\n",
       "      <td>64193</td>\n",
       "      <td>5142141115</td>\n",
       "      <td>2006-08-17</td>\n",
       "      <td>NaN</td>\n",
       "      <td>MONTGOMERY COLLEGE-PHONE</td>\n",
       "      <td>MD</td>\n",
       "      <td>20850</td>\n",
       "      <td>P</td>\n",
       "      <td>278.00</td>\n",
       "      <td>0</td>\n",
       "      <td>850</td>\n",
       "    </tr>\n",
       "    <tr>\n",
       "      <th>94748</th>\n",
       "      <td>94749</td>\n",
       "      <td>5142140436</td>\n",
       "      <td>2006-12-20</td>\n",
       "      <td>NaN</td>\n",
       "      <td>MONTGOMERY COLLEGE-PHONE</td>\n",
       "      <td>MD</td>\n",
       "      <td>20850</td>\n",
       "      <td>P</td>\n",
       "      <td>25.00</td>\n",
       "      <td>0</td>\n",
       "      <td>850</td>\n",
       "    </tr>\n",
       "  </tbody>\n",
       "</table>\n",
       "</div>"
      ],
      "text/plain": [
       "       Recnum     Cardnum       Date Merchnum         Merch description  \\\n",
       "201       202  5142140436 2006-01-03      NaN  MONTGOMERY COLLEGE-PHONE   \n",
       "39516   39517  5142141115 2006-05-26      NaN  MONTGOMERY COLLEGE-PHONE   \n",
       "64192   64193  5142141115 2006-08-17      NaN  MONTGOMERY COLLEGE-PHONE   \n",
       "94748   94749  5142140436 2006-12-20      NaN  MONTGOMERY COLLEGE-PHONE   \n",
       "\n",
       "      Merch state Merch zip Transtype  Amount  Fraud zip3  \n",
       "201            MD     20850         P  266.00      0  850  \n",
       "39516          MD     20850         P   58.45      0  850  \n",
       "64192          MD     20850         P  278.00      0  850  \n",
       "94748          MD     20850         P   25.00      0  850  "
      ]
     },
     "execution_count": 21,
     "metadata": {},
     "output_type": "execute_result"
    }
   ],
   "source": [
    "data[data['Merch description'] == 'MONTGOMERY COLLEGE-PHONE']"
   ]
  },
  {
   "cell_type": "code",
   "execution_count": 22,
   "id": "1db77277",
   "metadata": {},
   "outputs": [],
   "source": [
    "# fill in by mapping with Merch description\n",
    "data['Merchnum'] = data['Merchnum'].fillna(data['Merch description'].map(merchdes_merchnum))\n"
   ]
  },
  {
   "cell_type": "code",
   "execution_count": 23,
   "id": "48fa92fd",
   "metadata": {},
   "outputs": [],
   "source": [
    "# assign unknown for adjustments transactions\n",
    "data['Merchnum'] = data['Merchnum'].mask(data['Merch description'] == 'RETAIL CREDIT ADJUSTMENT', 'unknown')\n",
    "data['Merchnum'] = data['Merchnum'].mask(data['Merch description'] == 'RETAIL DEBIT ADJUSTMENT', 'unknown')"
   ]
  },
  {
   "cell_type": "markdown",
   "id": "6b50b8be",
   "metadata": {},
   "source": [
    "#### merch state"
   ]
  },
  {
   "cell_type": "code",
   "execution_count": 24,
   "id": "b45c50fe",
   "metadata": {},
   "outputs": [],
   "source": [
    "# dict for mapping\n",
    "# zip_state = {}\n",
    "# for index, zip5 in data[data['Merch zip'].notnull()]['Merch zip'].items():\n",
    "#     if zip5 not in zip_state:\n",
    "#         zip_state[zip5] = data.loc[index, 'Merch state']\n",
    "\n",
    "zip_state = data[~pd.isnull(data['Merch state'])].groupby(['Merch zip'])['Merch state'].apply(lambda x: x.mode()[0])\n"
   ]
  },
  {
   "cell_type": "code",
   "execution_count": 25,
   "id": "6fe250a9",
   "metadata": {},
   "outputs": [
    {
     "data": {
      "text/plain": [
       "Merch zip\n",
       "00001    PA\n",
       "00002    MD\n",
       "00003    GA\n",
       "00005    IA\n",
       "00006    IL\n",
       "         ..\n",
       "99755    AK\n",
       "99801    AK\n",
       "99835    AK\n",
       "99901    AK\n",
       "99999    CA\n",
       "Name: Merch state, Length: 4538, dtype: object"
      ]
     },
     "execution_count": 25,
     "metadata": {},
     "output_type": "execute_result"
    }
   ],
   "source": [
    "zip_state"
   ]
  },
  {
   "cell_type": "code",
   "execution_count": 26,
   "id": "01dedd52",
   "metadata": {},
   "outputs": [],
   "source": [
    "zip_state['00926'] = 'PR'\n",
    "zip_state['00929'] = 'PR'\n",
    "zip_state['00934'] = 'PR'\n",
    "zip_state['00902'] = 'PR'\n",
    "zip_state['00738'] = 'PR'\n",
    "zip_state['90805'] = 'CA'\n",
    "zip_state['76302'] = 'TX'\n",
    "zip_state['00914'] = 'PR'\n",
    "zip_state['95461'] = 'CA'\n",
    "zip_state['00680'] = 'PR'\n",
    "zip_state['00623'] = 'PR'\n",
    "zip_state['00726'] = 'PR'\n",
    "zip_state['00936'] = 'PR'\n",
    "zip_state['12108'] = 'NY'\n",
    "zip_state['00791'] = 'PR'\n",
    "zip_state['00907'] = 'PR'\n",
    "zip_state['00922'] = 'PR'\n",
    "zip_state['00920'] = 'PR'\n",
    "zip_state['00801'] = 'VI'\n",
    "zip_state['31040'] = 'GA'\n",
    "zip_state['41160'] = 'KY'\n",
    "zip_state['00681'] = 'PR'\n"
   ]
  },
  {
   "cell_type": "code",
   "execution_count": 27,
   "id": "a5b04415",
   "metadata": {},
   "outputs": [],
   "source": [
    "merchnum_state = data[~pd.isnull(data['Merch state'])].groupby(['Merchnum'])['Merch state'].apply(lambda x: x.mode()[0])"
   ]
  },
  {
   "cell_type": "code",
   "execution_count": 28,
   "id": "703d49f2",
   "metadata": {},
   "outputs": [],
   "source": [
    "merchdes_state = data[~pd.isnull(data['Merch state'])].groupby(['Merch description'])['Merch state'].apply(lambda x: x.mode()[0])"
   ]
  },
  {
   "cell_type": "code",
   "execution_count": 29,
   "id": "52779f53",
   "metadata": {},
   "outputs": [],
   "source": [
    "# merchnum_state = {}\n",
    "# for index, merchnum in data[data['Merchnum'].notnull()]['Merchnum'].items():\n",
    "#     if merchnum not in merchnum_state :\n",
    "#         merchnum_state[merchnum] = data.loc[index, 'Merch state']\n",
    "\n",
    "# merchdes_state = {}\n",
    "# for index, merchdes in data[data['Merch description'].notnull()]['Merch description'].items():\n",
    "#     if merchdes not in merchdes_state :\n",
    "#         merchdes_state[merchdes] = data.loc[index, 'Merch state']\n"
   ]
  },
  {
   "cell_type": "code",
   "execution_count": 30,
   "id": "f5704fe3",
   "metadata": {},
   "outputs": [],
   "source": [
    "# fill in by mapping with zip, merchnum and merch description\n",
    "data['Merch state'] = data['Merch state'].fillna(data['Merch zip'].map(zip_state))\n",
    "data['Merch state'] = data['Merch state'].fillna(data['Merchnum'].map(merchnum_state))\n",
    "data['Merch state'] = data['Merch state'].fillna(data['Merch description'].map(merchdes_state))\n"
   ]
  },
  {
   "cell_type": "code",
   "execution_count": 31,
   "id": "cc005190",
   "metadata": {},
   "outputs": [],
   "source": [
    "# assign unknown for adjustments transactions\n",
    "data['Merch state'] = data['Merch state'].mask(data['Merch description'] == 'RETAIL CREDIT ADJUSTMENT', 'unknown')\n",
    "data['Merch state'] = data['Merch state'].mask(data['Merch description'] == 'RETAIL DEBIT ADJUSTMENT', 'unknown')\n"
   ]
  },
  {
   "cell_type": "markdown",
   "id": "af7ff3c1",
   "metadata": {},
   "source": [
    "#### merch zip"
   ]
  },
  {
   "cell_type": "code",
   "execution_count": 32,
   "id": "b61a27b2",
   "metadata": {},
   "outputs": [],
   "source": [
    "data['Merch zip'] = data['Merch zip'].replace('00000',np.nan)"
   ]
  },
  {
   "cell_type": "code",
   "execution_count": 33,
   "id": "dc1e4791",
   "metadata": {},
   "outputs": [
    {
     "data": {
      "text/plain": [
       "38118    11868\n",
       "NaN       4300\n",
       "63103     1650\n",
       "08701     1267\n",
       "22202     1250\n",
       "         ...  \n",
       "66801        1\n",
       "35487        1\n",
       "48151        1\n",
       "55446        1\n",
       "66216        1\n",
       "Name: Merch zip, Length: 4568, dtype: int64"
      ]
     },
     "execution_count": 33,
     "metadata": {},
     "output_type": "execute_result"
    }
   ],
   "source": [
    "data['Merch zip'].value_counts(dropna = False)"
   ]
  },
  {
   "cell_type": "code",
   "execution_count": 34,
   "id": "1fa2fb25",
   "metadata": {},
   "outputs": [],
   "source": [
    "merchnum_zip = data[~pd.isnull(data['Merch zip'])].groupby(['Merchnum'])['Merch zip'].apply(lambda x: x.mode()[0])"
   ]
  },
  {
   "cell_type": "code",
   "execution_count": 35,
   "id": "c4b3f85c",
   "metadata": {},
   "outputs": [
    {
     "data": {
      "text/plain": [
       "Merchnum\n",
       "003100006NOT6    41011\n",
       "004740006ABC6    82520\n",
       "005590006PNB6    80439\n",
       "014430619  14    90502\n",
       "014938913  51    84116\n",
       "                 ...  \n",
       "DU49038320006    19547\n",
       "JCPENNE9 CO      19454\n",
       "PENNE9 CO #05    43623\n",
       "PENNE9 CO #68    40422\n",
       "unknown          00007\n",
       "Name: Merch zip, Length: 12834, dtype: object"
      ]
     },
     "execution_count": 35,
     "metadata": {},
     "output_type": "execute_result"
    }
   ],
   "source": [
    "merchnum_zip"
   ]
  },
  {
   "cell_type": "code",
   "execution_count": 36,
   "id": "1955848f",
   "metadata": {},
   "outputs": [],
   "source": [
    "# merchnum_zip = {}\n",
    "# for index, merchnum in data[data['Merchnum'].notnull()]['Merchnum'].items():\n",
    "#     if merchnum not in merchnum_zip :\n",
    "#         merchnum_zip [merchnum] = data.loc[index, 'Merch zip']\n"
   ]
  },
  {
   "cell_type": "code",
   "execution_count": 37,
   "id": "5d62621c",
   "metadata": {},
   "outputs": [],
   "source": [
    "merchdes_zip = data[~pd.isnull(data['Merch zip'])].groupby(['Merch description'])['Merch zip'].apply(lambda x: x.mode()[0])"
   ]
  },
  {
   "cell_type": "code",
   "execution_count": 38,
   "id": "e70ee15b",
   "metadata": {},
   "outputs": [],
   "source": [
    "# merchdes_zip = {}\n",
    "# for index, merchdes in data[data['Merch description'].notnull()]['Merch description'].items():\n",
    "#     if merchdes not in merchdes_zip :\n",
    "#         merchdes_zip [merchdes] = data.loc[index, 'Merch zip']\n"
   ]
  },
  {
   "cell_type": "code",
   "execution_count": 39,
   "id": "0d2c9313",
   "metadata": {},
   "outputs": [],
   "source": [
    "# fill in by mapping with merchnum and merch description\n",
    "data['Merch zip'] = data['Merch zip'].fillna(data['Merchnum'].map(merchnum_zip))\n",
    "data['Merch zip'] = data['Merch zip'].fillna(data['Merch description'].map(merchdes_zip))\n"
   ]
  },
  {
   "cell_type": "code",
   "execution_count": 40,
   "id": "11a722fd",
   "metadata": {},
   "outputs": [],
   "source": [
    "# assign unknown for adjustments transactions\n",
    "data['Merch zip'] = data['Merch zip'].mask(data['Merch zip'] == 'RETAIL CREDIT ADJUSTMENT', 'unknown')\n",
    "data['Merch zip'] = data['Merch zip'].mask(data['Merch zip'] == 'RETAIL DEBIT ADJUSTMENT', 'unknown')"
   ]
  },
  {
   "cell_type": "code",
   "execution_count": 41,
   "id": "57ae509a",
   "metadata": {},
   "outputs": [
    {
     "data": {
      "text/plain": [
       "38118    11868\n",
       "22202     2172\n",
       "NaN       1723\n",
       "63103     1650\n",
       "08701     1269\n",
       "         ...  \n",
       "84118        1\n",
       "89801        1\n",
       "18508        1\n",
       "91248        1\n",
       "33413        1\n",
       "Name: Merch zip, Length: 4568, dtype: int64"
      ]
     },
     "execution_count": 41,
     "metadata": {},
     "output_type": "execute_result"
    }
   ],
   "source": [
    "data['Merch zip'].value_counts(dropna = False)"
   ]
  },
  {
   "cell_type": "code",
   "execution_count": 42,
   "id": "9e45515f",
   "metadata": {},
   "outputs": [
    {
     "name": "stdout",
     "output_type": "stream",
     "text": [
      "<class 'pandas.core.frame.DataFrame'>\n",
      "Int64Index: 96397 entries, 0 to 96752\n",
      "Data columns (total 11 columns):\n",
      " #   Column             Non-Null Count  Dtype         \n",
      "---  ------             --------------  -----         \n",
      " 0   Recnum             96397 non-null  int64         \n",
      " 1   Cardnum            96397 non-null  int64         \n",
      " 2   Date               96397 non-null  datetime64[ns]\n",
      " 3   Merchnum           96397 non-null  object        \n",
      " 4   Merch description  96397 non-null  object        \n",
      " 5   Merch state        96397 non-null  object        \n",
      " 6   Merch zip          96397 non-null  object        \n",
      " 7   Transtype          96397 non-null  object        \n",
      " 8   Amount             96397 non-null  float64       \n",
      " 9   Fraud              96397 non-null  int64         \n",
      " 10  zip3               96397 non-null  object        \n",
      "dtypes: datetime64[ns](1), float64(1), int64(3), object(6)\n",
      "memory usage: 10.8+ MB\n"
     ]
    }
   ],
   "source": [
    "# fill the rest with unknown\n",
    "data = data.fillna('unknown')\n",
    "data.info()\n"
   ]
  },
  {
   "cell_type": "code",
   "execution_count": 43,
   "id": "c30e3639",
   "metadata": {},
   "outputs": [],
   "source": [
    "# data['zip3'] = data['Merch zip'].str.slice(start = -3,stop = 5)"
   ]
  },
  {
   "cell_type": "code",
   "execution_count": 44,
   "id": "bdac2843",
   "metadata": {},
   "outputs": [],
   "source": [
    "data['Cardnum'] = data['Cardnum'].astype('str')"
   ]
  },
  {
   "cell_type": "code",
   "execution_count": 45,
   "id": "07608581",
   "metadata": {},
   "outputs": [],
   "source": [
    "# data['Merch description'].value_counts().tail(40)\n",
    "# [i for i in data['Merch description'] if i in ['jewelry','electronics','online']]\n",
    "# #recurring charges, same amount\n",
    "# x = data.groupby(['Merchnum','Amount']).Recnum.count()\n",
    "# x[x>100]"
   ]
  },
  {
   "cell_type": "markdown",
   "id": "f35ea66d",
   "metadata": {},
   "source": [
    "## Feature Engineering <a class=\"anchor\" id=\"fourth-bullet\"></a>"
   ]
  },
  {
   "cell_type": "code",
   "execution_count": 46,
   "id": "81658d4e",
   "metadata": {},
   "outputs": [],
   "source": [
    "data['Cardnum_Merchnum'] = data['Cardnum'].astype('str') + data['Merchnum'].astype('str')\n",
    "data['Cardnum_Zip'] = data['Cardnum'].astype('str') + data['Merch zip']\n",
    "data['Cardnum_state'] = data['Cardnum'] + data['Merch state']\n",
    "data['Merchnum_Zip'] = data['Merchnum'] + data['Merch zip']"
   ]
  },
  {
   "cell_type": "code",
   "execution_count": 47,
   "id": "b601f17a",
   "metadata": {},
   "outputs": [],
   "source": [
    "data['Cardnum_Merchnum_state'] = data['Cardnum'] + data['Merchnum'] + data['Merch state']\n",
    "data['Cardnum_Merchnum_zip'] = data['Cardnum'] + data['Merchnum'] + data['Merch zip']"
   ]
  },
  {
   "cell_type": "code",
   "execution_count": 48,
   "id": "376693a4",
   "metadata": {},
   "outputs": [],
   "source": [
    "data['Cardnum_Zip3'] = data['Cardnum'].astype('str') + data['zip3']\n",
    "data['Merchnum_Zip3'] = data['Merchnum'].astype('str') + data['zip3']\n",
    "data['Cardnum_Merchnum_zip3'] = data['Cardnum'].astype('str') + data['Merchnum'].astype('str') + data['zip3']"
   ]
  },
  {
   "cell_type": "code",
   "execution_count": 49,
   "id": "54f820f5",
   "metadata": {},
   "outputs": [],
   "source": [
    "entities = ['Cardnum','Merchnum','Cardnum_Merchnum','Cardnum_Zip','Cardnum_state','Merchnum_Zip','Cardnum_Merchnum_state','Cardnum_Merchnum_zip',\n",
    "           'Cardnum_Zip3','Merchnum_Zip3','Cardnum_Merchnum_zip3']"
   ]
  },
  {
   "cell_type": "code",
   "execution_count": 50,
   "id": "3dbfd6a4",
   "metadata": {},
   "outputs": [
    {
     "data": {
      "text/plain": [
       "(96397, 20)"
      ]
     },
     "execution_count": 50,
     "metadata": {},
     "output_type": "execute_result"
    }
   ],
   "source": [
    "data1=data.copy()\n",
    "final=data.copy()\n",
    "data1['check_date']=data1.Date\n",
    "data1['check_record']=data1.Recnum\n",
    "final.shape"
   ]
  },
  {
   "cell_type": "markdown",
   "id": "d1bfa29e",
   "metadata": {},
   "source": [
    "### Day-since, frequency and amount variables"
   ]
  },
  {
   "cell_type": "code",
   "execution_count": 51,
   "id": "877c45c1",
   "metadata": {},
   "outputs": [
    {
     "name": "stdout",
     "output_type": "stream",
     "text": [
      "\n",
      "\n",
      "Cardnum_day_since ---> Done\n",
      "Cardnum_count_0 ---> Done\n",
      "Cardnum amount variables over past 0 ---> Done\n",
      "Cardnum_count_1 ---> Done\n",
      "Cardnum amount variables over past 1 ---> Done\n",
      "Cardnum_count_3 ---> Done\n",
      "Cardnum amount variables over past 3 ---> Done\n",
      "Cardnum_count_7 ---> Done\n",
      "Cardnum amount variables over past 7 ---> Done\n",
      "Cardnum_count_14 ---> Done\n",
      "Cardnum amount variables over past 14 ---> Done\n",
      "Cardnum_count_30 ---> Done\n",
      "Cardnum amount variables over past 30 ---> Done\n",
      "\n",
      "\n",
      "Merchnum_day_since ---> Done\n",
      "Merchnum_count_0 ---> Done\n",
      "Merchnum amount variables over past 0 ---> Done\n",
      "Merchnum_count_1 ---> Done\n",
      "Merchnum amount variables over past 1 ---> Done\n",
      "Merchnum_count_3 ---> Done\n",
      "Merchnum amount variables over past 3 ---> Done\n",
      "Merchnum_count_7 ---> Done\n",
      "Merchnum amount variables over past 7 ---> Done\n",
      "Merchnum_count_14 ---> Done\n",
      "Merchnum amount variables over past 14 ---> Done\n",
      "Merchnum_count_30 ---> Done\n",
      "Merchnum amount variables over past 30 ---> Done\n",
      "\n",
      "\n",
      "Cardnum_Merchnum_day_since ---> Done\n",
      "Cardnum_Merchnum_count_0 ---> Done\n",
      "Cardnum_Merchnum amount variables over past 0 ---> Done\n",
      "Cardnum_Merchnum_count_1 ---> Done\n",
      "Cardnum_Merchnum amount variables over past 1 ---> Done\n",
      "Cardnum_Merchnum_count_3 ---> Done\n",
      "Cardnum_Merchnum amount variables over past 3 ---> Done\n",
      "Cardnum_Merchnum_count_7 ---> Done\n",
      "Cardnum_Merchnum amount variables over past 7 ---> Done\n",
      "Cardnum_Merchnum_count_14 ---> Done\n",
      "Cardnum_Merchnum amount variables over past 14 ---> Done\n",
      "Cardnum_Merchnum_count_30 ---> Done\n",
      "Cardnum_Merchnum amount variables over past 30 ---> Done\n",
      "\n",
      "\n",
      "Cardnum_Zip_day_since ---> Done\n",
      "Cardnum_Zip_count_0 ---> Done\n",
      "Cardnum_Zip amount variables over past 0 ---> Done\n",
      "Cardnum_Zip_count_1 ---> Done\n",
      "Cardnum_Zip amount variables over past 1 ---> Done\n",
      "Cardnum_Zip_count_3 ---> Done\n",
      "Cardnum_Zip amount variables over past 3 ---> Done\n",
      "Cardnum_Zip_count_7 ---> Done\n",
      "Cardnum_Zip amount variables over past 7 ---> Done\n",
      "Cardnum_Zip_count_14 ---> Done\n",
      "Cardnum_Zip amount variables over past 14 ---> Done\n",
      "Cardnum_Zip_count_30 ---> Done\n",
      "Cardnum_Zip amount variables over past 30 ---> Done\n",
      "\n",
      "\n",
      "Cardnum_state_day_since ---> Done\n",
      "Cardnum_state_count_0 ---> Done\n",
      "Cardnum_state amount variables over past 0 ---> Done\n",
      "Cardnum_state_count_1 ---> Done\n",
      "Cardnum_state amount variables over past 1 ---> Done\n",
      "Cardnum_state_count_3 ---> Done\n",
      "Cardnum_state amount variables over past 3 ---> Done\n",
      "Cardnum_state_count_7 ---> Done\n",
      "Cardnum_state amount variables over past 7 ---> Done\n",
      "Cardnum_state_count_14 ---> Done\n",
      "Cardnum_state amount variables over past 14 ---> Done\n",
      "Cardnum_state_count_30 ---> Done\n",
      "Cardnum_state amount variables over past 30 ---> Done\n",
      "\n",
      "\n",
      "Merchnum_Zip_day_since ---> Done\n",
      "Merchnum_Zip_count_0 ---> Done\n",
      "Merchnum_Zip amount variables over past 0 ---> Done\n",
      "Merchnum_Zip_count_1 ---> Done\n",
      "Merchnum_Zip amount variables over past 1 ---> Done\n",
      "Merchnum_Zip_count_3 ---> Done\n",
      "Merchnum_Zip amount variables over past 3 ---> Done\n",
      "Merchnum_Zip_count_7 ---> Done\n",
      "Merchnum_Zip amount variables over past 7 ---> Done\n",
      "Merchnum_Zip_count_14 ---> Done\n",
      "Merchnum_Zip amount variables over past 14 ---> Done\n",
      "Merchnum_Zip_count_30 ---> Done\n",
      "Merchnum_Zip amount variables over past 30 ---> Done\n",
      "\n",
      "\n",
      "Cardnum_Merchnum_state_day_since ---> Done\n",
      "Cardnum_Merchnum_state_count_0 ---> Done\n",
      "Cardnum_Merchnum_state amount variables over past 0 ---> Done\n",
      "Cardnum_Merchnum_state_count_1 ---> Done\n",
      "Cardnum_Merchnum_state amount variables over past 1 ---> Done\n",
      "Cardnum_Merchnum_state_count_3 ---> Done\n",
      "Cardnum_Merchnum_state amount variables over past 3 ---> Done\n",
      "Cardnum_Merchnum_state_count_7 ---> Done\n",
      "Cardnum_Merchnum_state amount variables over past 7 ---> Done\n",
      "Cardnum_Merchnum_state_count_14 ---> Done\n",
      "Cardnum_Merchnum_state amount variables over past 14 ---> Done\n",
      "Cardnum_Merchnum_state_count_30 ---> Done\n",
      "Cardnum_Merchnum_state amount variables over past 30 ---> Done\n",
      "\n",
      "\n",
      "Cardnum_Merchnum_zip_day_since ---> Done\n",
      "Cardnum_Merchnum_zip_count_0 ---> Done\n",
      "Cardnum_Merchnum_zip amount variables over past 0 ---> Done\n",
      "Cardnum_Merchnum_zip_count_1 ---> Done\n",
      "Cardnum_Merchnum_zip amount variables over past 1 ---> Done\n",
      "Cardnum_Merchnum_zip_count_3 ---> Done\n",
      "Cardnum_Merchnum_zip amount variables over past 3 ---> Done\n",
      "Cardnum_Merchnum_zip_count_7 ---> Done\n",
      "Cardnum_Merchnum_zip amount variables over past 7 ---> Done\n",
      "Cardnum_Merchnum_zip_count_14 ---> Done\n",
      "Cardnum_Merchnum_zip amount variables over past 14 ---> Done\n",
      "Cardnum_Merchnum_zip_count_30 ---> Done\n",
      "Cardnum_Merchnum_zip amount variables over past 30 ---> Done\n",
      "\n",
      "\n",
      "Cardnum_Zip3_day_since ---> Done\n",
      "Cardnum_Zip3_count_0 ---> Done\n",
      "Cardnum_Zip3 amount variables over past 0 ---> Done\n",
      "Cardnum_Zip3_count_1 ---> Done\n",
      "Cardnum_Zip3 amount variables over past 1 ---> Done\n",
      "Cardnum_Zip3_count_3 ---> Done\n",
      "Cardnum_Zip3 amount variables over past 3 ---> Done\n",
      "Cardnum_Zip3_count_7 ---> Done\n",
      "Cardnum_Zip3 amount variables over past 7 ---> Done\n",
      "Cardnum_Zip3_count_14 ---> Done\n",
      "Cardnum_Zip3 amount variables over past 14 ---> Done\n",
      "Cardnum_Zip3_count_30 ---> Done\n",
      "Cardnum_Zip3 amount variables over past 30 ---> Done\n",
      "\n",
      "\n",
      "Merchnum_Zip3_day_since ---> Done\n",
      "Merchnum_Zip3_count_0 ---> Done\n",
      "Merchnum_Zip3 amount variables over past 0 ---> Done\n",
      "Merchnum_Zip3_count_1 ---> Done\n",
      "Merchnum_Zip3 amount variables over past 1 ---> Done\n",
      "Merchnum_Zip3_count_3 ---> Done\n",
      "Merchnum_Zip3 amount variables over past 3 ---> Done\n",
      "Merchnum_Zip3_count_7 ---> Done\n",
      "Merchnum_Zip3 amount variables over past 7 ---> Done\n",
      "Merchnum_Zip3_count_14 ---> Done\n",
      "Merchnum_Zip3 amount variables over past 14 ---> Done\n",
      "Merchnum_Zip3_count_30 ---> Done\n",
      "Merchnum_Zip3 amount variables over past 30 ---> Done\n",
      "\n",
      "\n",
      "Cardnum_Merchnum_zip3_day_since ---> Done\n",
      "Cardnum_Merchnum_zip3_count_0 ---> Done\n",
      "Cardnum_Merchnum_zip3 amount variables over past 0 ---> Done\n",
      "Cardnum_Merchnum_zip3_count_1 ---> Done\n",
      "Cardnum_Merchnum_zip3 amount variables over past 1 ---> Done\n",
      "Cardnum_Merchnum_zip3_count_3 ---> Done\n",
      "Cardnum_Merchnum_zip3 amount variables over past 3 ---> Done\n",
      "Cardnum_Merchnum_zip3_count_7 ---> Done\n",
      "Cardnum_Merchnum_zip3 amount variables over past 7 ---> Done\n",
      "Cardnum_Merchnum_zip3_count_14 ---> Done\n",
      "Cardnum_Merchnum_zip3 amount variables over past 14 ---> Done\n",
      "Cardnum_Merchnum_zip3_count_30 ---> Done\n",
      "Cardnum_Merchnum_zip3 amount variables over past 30 ---> Done\n",
      "Total run time: 7.393659286666667mins\n"
     ]
    }
   ],
   "source": [
    "start = timer()\n",
    "for entity in entities:    \n",
    "    try: print('Run time for the last entity ----------------- {}s'.format(timeit.default_timer() - st))\n",
    "    except: print('')\n",
    "    st = timer()    \n",
    "    ## Day-since variables:   \n",
    "    df_l = data1[['Recnum', 'Date', entity]]\n",
    "    df_r = data1[['check_record', 'check_date', entity, 'Amount']]    \n",
    "    temp = pd.merge(df_l, df_r, left_on = entity, right_on = entity)   \n",
    "    temp1 = temp[temp.Recnum > temp.check_record][['Recnum','Date','check_date']]\\\n",
    "                                                   .groupby('Recnum')[['Date', 'check_date']].last()\n",
    "    mapper = (temp1.Date - temp1.check_date).dt.days\n",
    "    final[entity + '_day_since'] = final.Recnum.map(mapper)\n",
    "#     final[entity + '_day_since'].fillna((final.Date - pd.to_datetime('2006-01-01')).dt.days, inplace = True)\n",
    "    #using default values as 365 \n",
    "    final[entity + '_day_since'].fillna(365, inplace = True)\n",
    "    print('\\n' + entity + '_day_since ---> Done')   \n",
    "    ## Frequency & Amount variables:   \n",
    "    for time in [0,1,3,7,14,30]:       \n",
    "        temp2 = temp[(temp.check_date >= (temp.Date - dt.timedelta(time))) &\\\n",
    "                       (temp.Recnum >= temp.check_record)][['Recnum', entity, 'Amount']]       \n",
    "        col_name = entity + '_count_' + str(time)    \n",
    "        mapper2 = temp2.groupby('Recnum')[entity].count()      \n",
    "        final[col_name] = final.Recnum.map(mapper2)        \n",
    "        print(col_name + ' ---> Done')       \n",
    "        final[entity + '_avg_' + str(time)] = final.Recnum.map(temp2.groupby('Recnum')['Amount'].mean())\n",
    "        final[entity + '_max_' + str(time)] = final.Recnum.map(temp2.groupby('Recnum')['Amount'].max())\n",
    "        final[entity + '_med_' + str(time)] = final.Recnum.map(temp2.groupby('Recnum')['Amount'].median())\n",
    "        final[entity + '_total_' + str(time)] = final.Recnum.map(temp2.groupby('Recnum')['Amount'].sum())\n",
    "        final[entity + '_actual/avg_' + str(time)] = final['Amount'] / final[entity + '_avg_' + str(time)]\n",
    "        final[entity + '_actual/max_' + str(time)] = final['Amount'] / final[entity + '_max_' + str(time)]\n",
    "        final[entity + '_actual/med_' + str(time)] = final['Amount'] / final[entity + '_med_' + str(time)]\n",
    "        final[entity + '_actual/toal_' + str(time)] = final['Amount'] / final[entity + '_total_' + str(time)]       \n",
    "        print(entity + ' amount variables over past ' + str(time) + ' ---> Done')\n",
    "\n",
    "print('Total run time: {}mins'.format((timer() - start)/60))\n"
   ]
  },
  {
   "cell_type": "code",
   "execution_count": 52,
   "id": "141cd9b2",
   "metadata": {},
   "outputs": [
    {
     "data": {
      "text/plain": [
       "625"
      ]
     },
     "execution_count": 52,
     "metadata": {},
     "output_type": "execute_result"
    }
   ],
   "source": [
    "len(final.columns)"
   ]
  },
  {
   "cell_type": "code",
   "execution_count": 53,
   "id": "2076e668",
   "metadata": {},
   "outputs": [
    {
     "name": "stdout",
     "output_type": "stream",
     "text": [
      "run time: 1.0801476999999977s\n"
     ]
    }
   ],
   "source": [
    "start = timer()\n",
    "# velocity change variables\n",
    "for ent in entities:\n",
    "    for d in ['0', '1']:\n",
    "        for dd in ['3','7', '14', '30']:\n",
    "            final[ent + '_count_' + d + '_by_' + dd] =\\\n",
    "            final[ent + '_count_' + d]/(final[ent + '_count_' + dd])/float(dd)\n",
    "            \n",
    "print('run time: {}s'.format(timer() - start))\n"
   ]
  },
  {
   "cell_type": "code",
   "execution_count": 54,
   "id": "d0b14dd1",
   "metadata": {},
   "outputs": [
    {
     "data": {
      "text/plain": [
       "713"
      ]
     },
     "execution_count": 54,
     "metadata": {},
     "output_type": "execute_result"
    }
   ],
   "source": [
    "len(final.columns)"
   ]
  },
  {
   "cell_type": "markdown",
   "id": "4ec708c4",
   "metadata": {},
   "source": [
    "### Target Encoded variable <a class=\"anchor\" id=\"fifth-bullet\"></a>"
   ]
  },
  {
   "cell_type": "code",
   "execution_count": 55,
   "id": "15a53099",
   "metadata": {},
   "outputs": [],
   "source": [
    "#remove OOT data\n",
    "\n",
    "oot_date = dt.datetime(2006,11,1)"
   ]
  },
  {
   "cell_type": "code",
   "execution_count": 56,
   "id": "13d4f66e",
   "metadata": {},
   "outputs": [
    {
     "data": {
      "text/plain": [
       "83970"
      ]
     },
     "execution_count": 56,
     "metadata": {},
     "output_type": "execute_result"
    }
   ],
   "source": [
    "data['dow'] = data['Date'].apply(lambda x : calendar.day_name[x.weekday()])\n",
    "train_test = data[data['Date']<oot_date]\n",
    "len(train_test)\n"
   ]
  },
  {
   "cell_type": "code",
   "execution_count": 57,
   "id": "dded1ce6",
   "metadata": {},
   "outputs": [
    {
     "data": {
      "text/plain": [
       "12427"
      ]
     },
     "execution_count": 57,
     "metadata": {},
     "output_type": "execute_result"
    }
   ],
   "source": [
    "len(data) - len(train_test)"
   ]
  },
  {
   "cell_type": "code",
   "execution_count": 58,
   "id": "6e38490e",
   "metadata": {},
   "outputs": [
    {
     "data": {
      "text/plain": [
       "dow\n",
       "Friday       0.009788\n",
       "Monday       0.010095\n",
       "Saturday     0.018626\n",
       "Sunday       0.025994\n",
       "Thursday     0.007127\n",
       "Tuesday      0.009630\n",
       "Wednesday    0.008711\n",
       "Name: Fraud, dtype: float64"
      ]
     },
     "execution_count": 58,
     "metadata": {},
     "output_type": "execute_result"
    }
   ],
   "source": [
    "#smoothing\n",
    "c = 4; nmid = 20; y_avg = train_test['Fraud'].mean()\n",
    "y_dow = train_test.groupby('dow')['Fraud'].mean()\n",
    "num = train_test.groupby('dow').size()\n",
    "y_dow\n",
    "train_test.groupby('dow').size()\n",
    "y_avg\n",
    "y_dow"
   ]
  },
  {
   "cell_type": "code",
   "execution_count": 59,
   "id": "73760d8d",
   "metadata": {},
   "outputs": [
    {
     "data": {
      "text/plain": [
       "dow\n",
       "Friday       0.009788\n",
       "Monday       0.010095\n",
       "Saturday     0.018626\n",
       "Sunday       0.025994\n",
       "Thursday     0.007127\n",
       "Tuesday      0.009630\n",
       "Wednesday    0.008711\n",
       "dtype: float64"
      ]
     },
     "execution_count": 59,
     "metadata": {},
     "output_type": "execute_result"
    }
   ],
   "source": [
    "y_dow_smooth = y_avg + (y_dow - y_avg)/( 1 + np.exp(-(num - nmid)/c))\n",
    "y_dow_smooth"
   ]
  },
  {
   "cell_type": "code",
   "execution_count": 60,
   "id": "e9cff03b",
   "metadata": {},
   "outputs": [],
   "source": [
    "data['dow_risk'] = data['dow'].map(y_dow_smooth)"
   ]
  },
  {
   "cell_type": "code",
   "execution_count": 61,
   "id": "b0118a8d",
   "metadata": {},
   "outputs": [
    {
     "data": {
      "text/html": [
       "<div>\n",
       "<style scoped>\n",
       "    .dataframe tbody tr th:only-of-type {\n",
       "        vertical-align: middle;\n",
       "    }\n",
       "\n",
       "    .dataframe tbody tr th {\n",
       "        vertical-align: top;\n",
       "    }\n",
       "\n",
       "    .dataframe thead th {\n",
       "        text-align: right;\n",
       "    }\n",
       "</style>\n",
       "<table border=\"1\" class=\"dataframe\">\n",
       "  <thead>\n",
       "    <tr style=\"text-align: right;\">\n",
       "      <th></th>\n",
       "      <th>Fraud</th>\n",
       "    </tr>\n",
       "    <tr>\n",
       "      <th>dow</th>\n",
       "      <th></th>\n",
       "    </tr>\n",
       "  </thead>\n",
       "  <tbody>\n",
       "    <tr>\n",
       "      <th>Monday</th>\n",
       "      <td>0.010095</td>\n",
       "    </tr>\n",
       "    <tr>\n",
       "      <th>Tuesday</th>\n",
       "      <td>0.009630</td>\n",
       "    </tr>\n",
       "    <tr>\n",
       "      <th>Wednesday</th>\n",
       "      <td>0.008711</td>\n",
       "    </tr>\n",
       "    <tr>\n",
       "      <th>Thursday</th>\n",
       "      <td>0.007127</td>\n",
       "    </tr>\n",
       "    <tr>\n",
       "      <th>Friday</th>\n",
       "      <td>0.009788</td>\n",
       "    </tr>\n",
       "    <tr>\n",
       "      <th>Saturday</th>\n",
       "      <td>0.018626</td>\n",
       "    </tr>\n",
       "    <tr>\n",
       "      <th>Sunday</th>\n",
       "      <td>0.025994</td>\n",
       "    </tr>\n",
       "  </tbody>\n",
       "</table>\n",
       "</div>"
      ],
      "text/plain": [
       "              Fraud\n",
       "dow                \n",
       "Monday     0.010095\n",
       "Tuesday    0.009630\n",
       "Wednesday  0.008711\n",
       "Thursday   0.007127\n",
       "Friday     0.009788\n",
       "Saturday   0.018626\n",
       "Sunday     0.025994"
      ]
     },
     "execution_count": 61,
     "metadata": {},
     "output_type": "execute_result"
    }
   ],
   "source": [
    "y_dow = y_dow.reset_index()\n",
    "cats = ['Monday','Tuesday','Wednesday','Thursday','Friday','Saturday','Sunday']\n",
    "y_dow['dow'] = pd.Categorical(y_dow['dow'],categories=cats,ordered = True)\n",
    "y_dow = y_dow.sort_values('dow').set_index('dow')\n",
    "y_dow"
   ]
  },
  {
   "cell_type": "markdown",
   "id": "3a6fe9ae",
   "metadata": {},
   "source": [
    "### Benford's Variables <a class=\"anchor\" id=\"sixth-bullet\"></a>"
   ]
  },
  {
   "cell_type": "code",
   "execution_count": 62,
   "id": "1bb4ae3b",
   "metadata": {},
   "outputs": [],
   "source": [
    "data_benford = data[data['Merch description'].str.match(r\"[Ff][Ee][Dd][Ee][Xx]\")==False].copy()\n",
    "data_benford['Amount'] = data_benford['Amount'].astype('str')"
   ]
  },
  {
   "cell_type": "code",
   "execution_count": 63,
   "id": "c5b52b8d",
   "metadata": {},
   "outputs": [],
   "source": [
    "def n_low(df):\n",
    "    return ((df['Amount'].str.extract(r\"([1-9])\")=='1')|(df['Amount'].str.extract(r\"([1-9])\")=='2')).sum()"
   ]
  },
  {
   "cell_type": "code",
   "execution_count": 64,
   "id": "2d856d27",
   "metadata": {},
   "outputs": [
    {
     "data": {
      "text/html": [
       "<div>\n",
       "<style scoped>\n",
       "    .dataframe tbody tr th:only-of-type {\n",
       "        vertical-align: middle;\n",
       "    }\n",
       "\n",
       "    .dataframe tbody tr th {\n",
       "        vertical-align: top;\n",
       "    }\n",
       "\n",
       "    .dataframe thead th {\n",
       "        text-align: right;\n",
       "    }\n",
       "</style>\n",
       "<table border=\"1\" class=\"dataframe\">\n",
       "  <thead>\n",
       "    <tr style=\"text-align: right;\">\n",
       "      <th></th>\n",
       "      <th>0</th>\n",
       "      <th>n</th>\n",
       "      <th>n_low</th>\n",
       "    </tr>\n",
       "    <tr>\n",
       "      <th>Cardnum</th>\n",
       "      <th></th>\n",
       "      <th></th>\n",
       "      <th></th>\n",
       "    </tr>\n",
       "  </thead>\n",
       "  <tbody>\n",
       "    <tr>\n",
       "      <th>5142110002</th>\n",
       "      <td>1</td>\n",
       "      <td>1</td>\n",
       "      <td>1</td>\n",
       "    </tr>\n",
       "    <tr>\n",
       "      <th>5142110081</th>\n",
       "      <td>0</td>\n",
       "      <td>4</td>\n",
       "      <td>0</td>\n",
       "    </tr>\n",
       "    <tr>\n",
       "      <th>5142110313</th>\n",
       "      <td>2</td>\n",
       "      <td>3</td>\n",
       "      <td>2</td>\n",
       "    </tr>\n",
       "    <tr>\n",
       "      <th>5142110402</th>\n",
       "      <td>3</td>\n",
       "      <td>11</td>\n",
       "      <td>3</td>\n",
       "    </tr>\n",
       "    <tr>\n",
       "      <th>5142110434</th>\n",
       "      <td>1</td>\n",
       "      <td>1</td>\n",
       "      <td>1</td>\n",
       "    </tr>\n",
       "    <tr>\n",
       "      <th>...</th>\n",
       "      <td>...</td>\n",
       "      <td>...</td>\n",
       "      <td>...</td>\n",
       "    </tr>\n",
       "    <tr>\n",
       "      <th>5142310397</th>\n",
       "      <td>0</td>\n",
       "      <td>1</td>\n",
       "      <td>0</td>\n",
       "    </tr>\n",
       "    <tr>\n",
       "      <th>5142310525</th>\n",
       "      <td>1</td>\n",
       "      <td>4</td>\n",
       "      <td>1</td>\n",
       "    </tr>\n",
       "    <tr>\n",
       "      <th>5142310598</th>\n",
       "      <td>2</td>\n",
       "      <td>2</td>\n",
       "      <td>2</td>\n",
       "    </tr>\n",
       "    <tr>\n",
       "      <th>5142310768</th>\n",
       "      <td>2</td>\n",
       "      <td>4</td>\n",
       "      <td>2</td>\n",
       "    </tr>\n",
       "    <tr>\n",
       "      <th>5142847398</th>\n",
       "      <td>10</td>\n",
       "      <td>45</td>\n",
       "      <td>10</td>\n",
       "    </tr>\n",
       "  </tbody>\n",
       "</table>\n",
       "<p>1640 rows × 3 columns</p>\n",
       "</div>"
      ],
      "text/plain": [
       "             0   n  n_low\n",
       "Cardnum                  \n",
       "5142110002   1   1      1\n",
       "5142110081   0   4      0\n",
       "5142110313   2   3      2\n",
       "5142110402   3  11      3\n",
       "5142110434   1   1      1\n",
       "...         ..  ..    ...\n",
       "5142310397   0   1      0\n",
       "5142310525   1   4      1\n",
       "5142310598   2   2      2\n",
       "5142310768   2   4      2\n",
       "5142847398  10  45     10\n",
       "\n",
       "[1640 rows x 3 columns]"
      ]
     },
     "execution_count": 64,
     "metadata": {},
     "output_type": "execute_result"
    }
   ],
   "source": [
    "# cardnums = \n",
    "cardnums = data_benford.groupby('Cardnum').apply(n_low)\n",
    "cardnums['n'] = data_benford.groupby('Cardnum')['Amount'].count()\n",
    "cardnums['n_low'] = data_benford.groupby('Cardnum').apply(n_low)\n",
    "cardnums"
   ]
  },
  {
   "cell_type": "code",
   "execution_count": 65,
   "id": "7b702e05",
   "metadata": {},
   "outputs": [
    {
     "name": "stderr",
     "output_type": "stream",
     "text": [
      "<ipython-input-65-f4d7fd64be10>:3: SettingWithCopyWarning: \n",
      "A value is trying to be set on a copy of a slice from a DataFrame.\n",
      "Try using .loc[row_indexer,col_indexer] = value instead\n",
      "\n",
      "See the caveats in the documentation: https://pandas.pydata.org/pandas-docs/stable/user_guide/indexing.html#returning-a-view-versus-a-copy\n",
      "  cardnums['n_low'] = cardnums['n_low'].replace(0,1)\n",
      "<ipython-input-65-f4d7fd64be10>:4: SettingWithCopyWarning: \n",
      "A value is trying to be set on a copy of a slice from a DataFrame.\n",
      "Try using .loc[row_indexer,col_indexer] = value instead\n",
      "\n",
      "See the caveats in the documentation: https://pandas.pydata.org/pandas-docs/stable/user_guide/indexing.html#returning-a-view-versus-a-copy\n",
      "  cardnums['n_high'] = cardnums['n_high'].replace(0,1)\n"
     ]
    }
   ],
   "source": [
    "cardnums['n_high'] = cardnums['n'] - cardnums['n_low'] \n",
    "cardnums = cardnums[['n','n_low','n_high']]\n",
    "cardnums['n_low'] = cardnums['n_low'].replace(0,1)\n",
    "cardnums['n_high'] = cardnums['n_high'].replace(0,1)"
   ]
  },
  {
   "cell_type": "code",
   "execution_count": 66,
   "id": "2c393857",
   "metadata": {},
   "outputs": [],
   "source": [
    "cardnums['R'] = 1.096* cardnums['n_low']/cardnums['n_high']\n",
    "cardnums['1/R'] = 1/cardnums['R']\n",
    "cardnums['U'] = cardnums[['R','1/R']].max(axis = 1)\n",
    "cardnums['t'] = (cardnums['n'] - 15)/3\n",
    "cardnums['U*_card'] = 1 + ((cardnums['U'] - 1)/(1+np.exp(-cardnums['t'])))\n",
    "# cardnums.sort_values('U*',ascending = False)"
   ]
  },
  {
   "cell_type": "code",
   "execution_count": 67,
   "id": "f0f9ee31",
   "metadata": {},
   "outputs": [],
   "source": [
    "# merchnums = \n",
    "merchnums = data_benford.groupby('Merchnum').apply(n_low)\n",
    "merchnums['n'] = data_benford.groupby('Merchnum')['Amount'].count()\n",
    "merchnums['n_low'] = data_benford.groupby('Merchnum').apply(n_low)\n",
    "merchnums\n",
    "merchnums['n_high'] = merchnums['n'] - merchnums['n_low'] \n",
    "merchnums = merchnums[['n','n_low','n_high']]\n",
    "merchnums['n_low'] = merchnums['n_low'].replace(0,1)\n",
    "merchnums['n_high'] = merchnums['n_high'].replace(0,1)\n",
    "merchnums['R'] = 1.096* merchnums['n_low']/merchnums['n_high']\n",
    "merchnums['1/R'] = 1/merchnums['R']\n",
    "merchnums['U'] = merchnums[['R','1/R']].max(axis = 1)\n",
    "merchnums['t'] = (merchnums['n'] - 15)/3\n",
    "merchnums['U*_merch'] = 1 + ((merchnums['U'] - 1)/(1+np.exp(-merchnums['t'])))\n",
    "# merchnums.sort_values('U*',ascending = False)"
   ]
  },
  {
   "cell_type": "code",
   "execution_count": 68,
   "id": "fe938a05",
   "metadata": {},
   "outputs": [],
   "source": [
    "cardnums = cardnums.reset_index()\n",
    "merchnums = merchnums.reset_index()\n"
   ]
  },
  {
   "cell_type": "code",
   "execution_count": 69,
   "id": "51b05d1c",
   "metadata": {},
   "outputs": [],
   "source": [
    "final = final.merge(cardnums[['Cardnum','U*_card']],on = ['Cardnum'], how = 'left')"
   ]
  },
  {
   "cell_type": "code",
   "execution_count": 70,
   "id": "5c3206f8",
   "metadata": {},
   "outputs": [
    {
     "data": {
      "text/plain": [
       "Index(['Recnum', 'Cardnum', 'Date', 'Merchnum', 'Merch description',\n",
       "       'Merch state', 'Merch zip', 'Transtype', 'Amount', 'Fraud',\n",
       "       ...\n",
       "       'Merchnum_Zip3_count_1_by_30', 'Cardnum_Merchnum_zip3_count_0_by_3',\n",
       "       'Cardnum_Merchnum_zip3_count_0_by_7',\n",
       "       'Cardnum_Merchnum_zip3_count_0_by_14',\n",
       "       'Cardnum_Merchnum_zip3_count_0_by_30',\n",
       "       'Cardnum_Merchnum_zip3_count_1_by_3',\n",
       "       'Cardnum_Merchnum_zip3_count_1_by_7',\n",
       "       'Cardnum_Merchnum_zip3_count_1_by_14',\n",
       "       'Cardnum_Merchnum_zip3_count_1_by_30', 'U*_card'],\n",
       "      dtype='object', length=714)"
      ]
     },
     "execution_count": 70,
     "metadata": {},
     "output_type": "execute_result"
    }
   ],
   "source": [
    "final.columns"
   ]
  },
  {
   "cell_type": "code",
   "execution_count": 71,
   "id": "e86e175b",
   "metadata": {},
   "outputs": [],
   "source": [
    "final = final.merge(merchnums[['Merchnum','U*_merch']],on = ['Merchnum'], how = 'left')"
   ]
  },
  {
   "cell_type": "code",
   "execution_count": 72,
   "id": "cc95b664",
   "metadata": {},
   "outputs": [],
   "source": [
    "# final.shape"
   ]
  },
  {
   "cell_type": "code",
   "execution_count": 73,
   "id": "75a3ff59",
   "metadata": {},
   "outputs": [],
   "source": [
    "### Indicator variables: These variables look in the future"
   ]
  },
  {
   "cell_type": "code",
   "execution_count": 74,
   "id": "6071c599",
   "metadata": {},
   "outputs": [],
   "source": [
    "# begin = timer()\n",
    "# attributes = ['Cardnum','Merchnum']\n",
    "# for i in attributes:\n",
    "#     for v in ['3','7','30']:\n",
    "#         st=timer()\n",
    "#         mapper=final.groupby(i)[i + '_count_'+v].max()\n",
    "#         final['max_count_by_'+i+\"_\"+v] = final[i].map(mapper)\n",
    "#         print(f'max_count_by_{i}_{v}----->Done')\n",
    "#     print(f'run time for entity {i}----->{timer()-st}s')\n",
    "# print(f'Total run time:{(timer()-begin)/60}min')\n",
    "        \n",
    "        "
   ]
  },
  {
   "cell_type": "markdown",
   "id": "42bbebcf",
   "metadata": {},
   "source": [
    "### Interesting variables <a class=\"anchor\" id=\"seventh-bullet\"></a>"
   ]
  },
  {
   "cell_type": "code",
   "execution_count": 75,
   "id": "b217f37b",
   "metadata": {},
   "outputs": [
    {
     "name": "stdout",
     "output_type": "stream",
     "text": [
      "\n",
      "\n",
      "merch_amount_day_since ---> Done\n",
      "merch_amount_count_0 ---> Done\n",
      "merch_amount_count_1 ---> Done\n",
      "merch_amount_count_3 ---> Done\n",
      "merch_amount_count_7 ---> Done\n",
      "merch_amount_count_14 ---> Done\n",
      "merch_amount_count_30 ---> Done\n",
      "Total run time: 0.2508825833333333mins\n"
     ]
    }
   ],
   "source": [
    "# Recurring charges with same merchant and same amount \n",
    "data1['merch_amount'] = data['Merchnum'] + data['Amount'].astype('str')\n",
    "entities = ['merch_amount']\n",
    "start = timer()\n",
    "for entity in entities:    \n",
    "    try: print('Run time for the last entity ----------------- {}s'.format(timeit.default_timer() - st))\n",
    "    except: print('')\n",
    "    st = timer()    \n",
    "    ## Day-since variables:   \n",
    "    df_l = data1[['Recnum', 'Date', entity]]\n",
    "    df_r = data1[['check_record', 'check_date', entity, 'Amount']]    \n",
    "    temp = pd.merge(df_l, df_r, left_on = entity, right_on = entity)   \n",
    "    temp1 = temp[temp.Recnum > temp.check_record][['Recnum','Date','check_date']]\\\n",
    "                                                   .groupby('Recnum')[['Date', 'check_date']].last()\n",
    "    mapper = (temp1.Date - temp1.check_date).dt.days\n",
    "    final[entity + '_day_since'] = final.Recnum.map(mapper)\n",
    "    final[entity + '_day_since'].fillna((final.Date - pd.to_datetime('2010-01-01')).dt.days, inplace = True)\n",
    "    print('\\n' + entity + '_day_since ---> Done')   \n",
    "    ## Frequency variables:   \n",
    "    for time in [0,1,3,7,14,30]:       \n",
    "        temp2 = temp[(temp.check_date >= (temp.Date - dt.timedelta(time))) &\\\n",
    "                       (temp.Recnum >= temp.check_record)][['Recnum', entity, 'Amount']]       \n",
    "        col_name = entity + '_count_' + str(time)    \n",
    "        mapper2 = temp2.groupby('Recnum')[entity].count()      \n",
    "        final[col_name] = final.Recnum.map(mapper2)        \n",
    "        print(col_name + ' ---> Done')       \n",
    "        \n",
    "\n",
    "print('Total run time: {}mins'.format((timer() - start)/60))"
   ]
  },
  {
   "cell_type": "code",
   "execution_count": 76,
   "id": "911ebd30",
   "metadata": {},
   "outputs": [
    {
     "name": "stdout",
     "output_type": "stream",
     "text": [
      "run time: 0.02593410000008589s\n"
     ]
    }
   ],
   "source": [
    "start = timer()\n",
    "# velocity change variables\n",
    "for ent in entities:\n",
    "    for d in ['0', '1']:\n",
    "        for dd in ['7', '14', '30']:\n",
    "            final[ent + '_count_' + d + '_by_' + dd] =\\\n",
    "            final[ent + '_count_' + d]/(final[ent + '_count_' + dd])/float(dd)\n",
    "            \n",
    "print('run time: {}s'.format(timer() - start))"
   ]
  },
  {
   "cell_type": "code",
   "execution_count": 77,
   "id": "269671a8",
   "metadata": {},
   "outputs": [
    {
     "data": {
      "text/plain": [
       "Index(['Recnum', 'Cardnum', 'Date', 'Merchnum', 'Merch description',\n",
       "       'Merch state', 'Merch zip', 'Transtype', 'Amount', 'Fraud', 'zip3',\n",
       "       'Cardnum_Merchnum', 'Cardnum_Zip', 'Cardnum_state', 'Merchnum_Zip',\n",
       "       'Cardnum_Merchnum_state', 'Cardnum_Merchnum_zip', 'Cardnum_Zip3',\n",
       "       'Merchnum_Zip3', 'Cardnum_Merchnum_zip3', 'dow', 'dow_risk'],\n",
       "      dtype='object')"
      ]
     },
     "execution_count": 77,
     "metadata": {},
     "output_type": "execute_result"
    }
   ],
   "source": [
    "data.columns\n"
   ]
  },
  {
   "cell_type": "code",
   "execution_count": 78,
   "id": "abb8ca99",
   "metadata": {},
   "outputs": [],
   "source": [
    "#for a particular card, how many unique states and merchants till that point\n",
    "#for a particular card, difference between the time it was used for a merchant in a different state. If same state in previous transaction then 0"
   ]
  },
  {
   "cell_type": "code",
   "execution_count": 79,
   "id": "56c59f1c",
   "metadata": {},
   "outputs": [],
   "source": [
    "final['Previous state'] = final.groupby(['Cardnum'])['Merch state'].shift()"
   ]
  },
  {
   "cell_type": "code",
   "execution_count": 80,
   "id": "9d6cdf55",
   "metadata": {},
   "outputs": [],
   "source": [
    "final['Cardnum_days_since_diff_state'] = np.where(final['Previous state']!=final['Merch state'],final['Cardnum_day_since'],0)"
   ]
  },
  {
   "cell_type": "code",
   "execution_count": 81,
   "id": "dd9c43d4",
   "metadata": {},
   "outputs": [
    {
     "data": {
      "text/plain": [
       "0.0      51014\n",
       "1.0      13551\n",
       "2.0       5646\n",
       "3.0       4217\n",
       "4.0       3267\n",
       "         ...  \n",
       "233.0        1\n",
       "180.0        1\n",
       "242.0        1\n",
       "214.0        1\n",
       "235.0        1\n",
       "Name: Cardnum_days_since_diff_state, Length: 210, dtype: int64"
      ]
     },
     "execution_count": 81,
     "metadata": {},
     "output_type": "execute_result"
    }
   ],
   "source": [
    "final['Cardnum_days_since_diff_state'].value_counts()"
   ]
  },
  {
   "cell_type": "code",
   "execution_count": 82,
   "id": "250f20c5",
   "metadata": {},
   "outputs": [
    {
     "data": {
      "text/plain": [
       "0.9904452111287436"
      ]
     },
     "execution_count": 82,
     "metadata": {},
     "output_type": "execute_result"
    }
   ],
   "source": [
    "final.Cardnum_day_since.corr(final.Cardnum_days_since_diff_state)"
   ]
  },
  {
   "cell_type": "code",
   "execution_count": 83,
   "id": "39263318",
   "metadata": {},
   "outputs": [
    {
     "data": {
      "text/plain": [
       "0.0      51014\n",
       "1.0      13551\n",
       "2.0       5646\n",
       "3.0       4217\n",
       "4.0       3267\n",
       "         ...  \n",
       "233.0        1\n",
       "180.0        1\n",
       "242.0        1\n",
       "214.0        1\n",
       "235.0        1\n",
       "Name: Cardnum_days_since_diff_state, Length: 210, dtype: int64"
      ]
     },
     "execution_count": 83,
     "metadata": {},
     "output_type": "execute_result"
    }
   ],
   "source": [
    "final['Cardnum_days_since_diff_state'].value_counts()"
   ]
  },
  {
   "cell_type": "code",
   "execution_count": 84,
   "id": "745eaee2",
   "metadata": {},
   "outputs": [],
   "source": [
    "final = final.drop(['Previous state'],axis = 1)"
   ]
  },
  {
   "cell_type": "code",
   "execution_count": 85,
   "id": "c30cb01a",
   "metadata": {},
   "outputs": [
    {
     "data": {
      "text/plain": [
       "Index(['Recnum', 'Cardnum', 'Date', 'Merchnum', 'Merch description',\n",
       "       'Merch state', 'Merch zip', 'Transtype', 'Amount', 'Fraud', 'zip3',\n",
       "       'Cardnum_Merchnum', 'Cardnum_Zip', 'Cardnum_state', 'Merchnum_Zip',\n",
       "       'Cardnum_Merchnum_state', 'Cardnum_Merchnum_zip', 'Cardnum_Zip3',\n",
       "       'Merchnum_Zip3', 'Cardnum_Merchnum_zip3', 'dow', 'dow_risk'],\n",
       "      dtype='object')"
      ]
     },
     "execution_count": 85,
     "metadata": {},
     "output_type": "execute_result"
    }
   ],
   "source": [
    "data.columns"
   ]
  },
  {
   "cell_type": "code",
   "execution_count": 86,
   "id": "4b41a30e",
   "metadata": {},
   "outputs": [
    {
     "name": "stdout",
     "output_type": "stream",
     "text": [
      "Run time for entity Cardnum in field Merchnum-----------------20.261359800000037s\n",
      "Run time for entity Merchnum in field Merch state-----------------117.73758169999996s\n",
      "Total run time2.3009789299999985 min\n",
      "Total count by entities variables 12\n"
     ]
    }
   ],
   "source": [
    "\n",
    "begin = timer()\n",
    "count_count_entities_vars = 0\n",
    "combDict = {'comb3':[('Cardnum','Merchnum'),('Merchnum','Merch state')]}\n",
    "\n",
    "for (entity,field) in combDict['comb3']:\n",
    "    st = timer()\n",
    "    df_c = data1[['Recnum','Date',entity]]\n",
    "    df_d = data1[['check_record','check_date',entity,field]]\n",
    "    temp = pd.merge(df_c,df_d,on = entity)\n",
    "    for offset_t in [1,3,7,14,30,60]:\n",
    "        count_dat_df = temp[(temp.check_date >= temp.Date - dt.timedelta(offset_t)) & (temp.Recnum >=temp.check_record)]\n",
    "        col_name = f'{entity}_unique_count_for_{field}_{offset_t}'\n",
    "        mapper = count_dat_df.groupby(['Recnum'])[field].nunique()\n",
    "        final[col_name] = final.Recnum.map(mapper)\n",
    "        count_count_entities_vars = count_count_entities_vars + 1\n",
    "    \n",
    "    print(f'Run time for entity {entity} in field {field}-----------------{timer() - st}s')\n",
    "\n",
    "print(f'Total run time{(timer()-begin)/60} min')\n",
    "print(f'Total count by entities variables {count_count_entities_vars}')"
   ]
  },
  {
   "cell_type": "code",
   "execution_count": 87,
   "id": "9f525c67",
   "metadata": {},
   "outputs": [
    {
     "data": {
      "text/plain": [
       "741"
      ]
     },
     "execution_count": 87,
     "metadata": {},
     "output_type": "execute_result"
    }
   ],
   "source": [
    "len(final.columns)"
   ]
  },
  {
   "cell_type": "code",
   "execution_count": 101,
   "id": "74faa187",
   "metadata": {},
   "outputs": [
    {
     "name": "stdout",
     "output_type": "stream",
     "text": [
      "Run time for entity Merchnum in field Cardnum-----------------203.25116800000023s\n",
      "Run time for entity Merch zip in field Merchnum-----------------278.79601170000024s\n",
      "Total run time8.035708196666663 min\n",
      "Total count by entities variables 12\n"
     ]
    }
   ],
   "source": [
    "\n",
    "begin = timer()\n",
    "count_count_entities_vars = 0\n",
    "combDict = {'comb3':[('Merchnum','Cardnum'),('Merch zip','Merchnum')]}\n",
    "\n",
    "for (entity,field) in combDict['comb3']:\n",
    "    st = timer()\n",
    "    df_c = data1[['Recnum','Date',entity]]\n",
    "    df_d = data1[['check_record','check_date',entity,field]]\n",
    "    temp = pd.merge(df_c,df_d,on = entity)\n",
    "    for offset_t in [1,3,7,14,30,60]:\n",
    "        count_dat_df = temp[(temp.check_date >= temp.Date - dt.timedelta(offset_t)) & (temp.Recnum >=temp.check_record)]\n",
    "        col_name = f'{entity}_unique_count_for_{field}_{offset_t}'\n",
    "        mapper = count_dat_df.groupby(['Recnum'])[field].nunique()\n",
    "        final[col_name] = final.Recnum.map(mapper)\n",
    "        count_count_entities_vars = count_count_entities_vars + 1\n",
    "    \n",
    "    print(f'Run time for entity {entity} in field {field}-----------------{timer() - st}s')\n",
    "\n",
    "print(f'Total run time{(timer()-begin)/60} min')\n",
    "print(f'Total count by entities variables {count_count_entities_vars}')"
   ]
  },
  {
   "cell_type": "code",
   "execution_count": 102,
   "id": "675188f5",
   "metadata": {},
   "outputs": [
    {
     "name": "stdout",
     "output_type": "stream",
     "text": [
      "Run time for entity Cardnum in field zip3-----------------30.925923699999657s\n",
      "Run time for entity zip3 in field Cardnum-----------------498.5713573000003s\n",
      "Run time for entity zip3 in field Merchnum-----------------419.65203399999973s\n",
      "Run time for entity Merchnum in field zip3-----------------137.90960069999983s\n",
      "Total run time18.12005050833334 min\n",
      "Total count by entities variables 24\n"
     ]
    }
   ],
   "source": [
    "\n",
    "begin = timer()\n",
    "count_count_entities_vars = 0\n",
    "combDict = {'comb3':[('Cardnum','zip3'),('zip3','Cardnum'),('zip3','Merchnum'),('Merchnum','zip3')]}\n",
    "\n",
    "for (entity,field) in combDict['comb3']:\n",
    "    st = timer()\n",
    "    df_c = data1[['Recnum','Date',entity]]\n",
    "    df_d = data1[['check_record','check_date',entity,field]]\n",
    "    temp = pd.merge(df_c,df_d,on = entity)\n",
    "    for offset_t in [1,3,7,14,30,60]:\n",
    "        count_dat_df = temp[(temp.check_date >= temp.Date - dt.timedelta(offset_t)) & (temp.Recnum >=temp.check_record)]\n",
    "        col_name = f'{entity}_unique_count_for_{field}_{offset_t}'\n",
    "        mapper = count_dat_df.groupby(['Recnum'])[field].nunique()\n",
    "        final[col_name] = final.Recnum.map(mapper)\n",
    "        count_count_entities_vars = count_count_entities_vars + 1\n",
    "    \n",
    "    print(f'Run time for entity {entity} in field {field}-----------------{timer() - st}s')\n",
    "\n",
    "print(f'Total run time{(timer()-begin)/60} min')\n",
    "print(f'Total count by entities variables {count_count_entities_vars}')"
   ]
  },
  {
   "cell_type": "code",
   "execution_count": 103,
   "id": "5fcdd18a",
   "metadata": {},
   "outputs": [],
   "source": [
    "#Fill values for benford fed ex\n",
    "final['U*_merch'] = final['U*_merch'].fillna(np.mean(final['U*_merch']))\n",
    "final['U*_card'] = final['U*_card'].fillna(np.mean(final['U*_card']))"
   ]
  },
  {
   "cell_type": "code",
   "execution_count": 104,
   "id": "8749baa2",
   "metadata": {},
   "outputs": [],
   "source": [
    "final['dow'] = final['Date'].apply(lambda x : calendar.day_name[x.weekday()])\n",
    "final['dow_risk'] = final['dow'].map(y_dow_smooth)"
   ]
  },
  {
   "cell_type": "code",
   "execution_count": 105,
   "id": "06a35f4b",
   "metadata": {},
   "outputs": [
    {
     "data": {
      "text/plain": [
       "Index(['Recnum', 'Cardnum', 'Date', 'Merchnum', 'Merch description',\n",
       "       'Merch state', 'Merch zip', 'Transtype', 'Amount', 'Fraud',\n",
       "       ...\n",
       "       'zip3_unique_count_for_Merchnum_30',\n",
       "       'zip3_unique_count_for_Merchnum_60', 'Merchnum_unique_count_for_zip3_1',\n",
       "       'Merchnum_unique_count_for_zip3_3', 'Merchnum_unique_count_for_zip3_7',\n",
       "       'Merchnum_unique_count_for_zip3_14',\n",
       "       'Merchnum_unique_count_for_zip3_30',\n",
       "       'Merchnum_unique_count_for_zip3_60', 'dow', 'dow_risk'],\n",
       "      dtype='object', length=779)"
      ]
     },
     "execution_count": 105,
     "metadata": {},
     "output_type": "execute_result"
    }
   ],
   "source": [
    "final.columns"
   ]
  },
  {
   "cell_type": "markdown",
   "id": "a8cc0764",
   "metadata": {},
   "source": [
    "## Storing the variables <a class=\"anchor\" id=\"eigth-bullet\"></a>"
   ]
  },
  {
   "cell_type": "code",
   "execution_count": 106,
   "id": "f78c6262",
   "metadata": {},
   "outputs": [
    {
     "data": {
      "text/plain": [
       "Index(['Recnum', 'Cardnum', 'Date', 'Merchnum', 'Merch description',\n",
       "       'Merch state', 'Merch zip', 'Transtype', 'Amount', 'Fraud', 'zip3',\n",
       "       'Cardnum_Merchnum', 'Cardnum_Zip', 'Cardnum_state', 'Merchnum_Zip',\n",
       "       'Cardnum_Merchnum_state', 'Cardnum_Merchnum_zip', 'Cardnum_Zip3',\n",
       "       'Merchnum_Zip3', 'Cardnum_Merchnum_zip3', 'dow', 'dow_risk'],\n",
       "      dtype='object')"
      ]
     },
     "execution_count": 106,
     "metadata": {},
     "output_type": "execute_result"
    }
   ],
   "source": [
    "data.columns"
   ]
  },
  {
   "cell_type": "code",
   "execution_count": 107,
   "id": "feba36c9",
   "metadata": {},
   "outputs": [],
   "source": [
    "final_columns = set(final.columns) - set(['Cardnum','Date','Merchnum','Merch description','Merch state','Merch zip','Transtype','dow','zip3','Cardnum_Merchnum','Cardnum_Zip','Cardnum_state','Merchnum_Zip','Cardnum_Merchnum_state','Cardnum_Merchnum_zip','Cardnum_Zip3','Merchnum_Zip3','Cardnum_Merchnum_zip3'])\n",
    "merch_columns = [i for i in final_columns if 'Merch' in i[0:10]]\n",
    "non_merch_columns = [i for i in final_columns if i not in merch_columns]\n"
   ]
  },
  {
   "cell_type": "code",
   "execution_count": 108,
   "id": "a32e36f6",
   "metadata": {},
   "outputs": [],
   "source": [
    "if 'Fraud' not in non_merch_columns[0:150]:\n",
    "    first_half = non_merch_columns[0:150] + ['Fraud']\n",
    "else:\n",
    "    first_half = non_merch_columns[0:150]\n",
    "    \n",
    "if 'Fraud' not in non_merch_columns[150:]:\n",
    "    second_half = non_merch_columns[150:] + ['Fraud']\n",
    "else:\n",
    "    second_half = non_merch_columns[150:]\n",
    "    \n",
    "if 'Recnum' not in second_half:\n",
    "    second_half = second_half + ['Recnum']\n",
    "    \n",
    "if 'Recnum' not in first_half:\n",
    "    first_half = first_half + ['Recnum']\n"
   ]
  },
  {
   "cell_type": "code",
   "execution_count": 109,
   "id": "2497ec41",
   "metadata": {},
   "outputs": [],
   "source": [
    "final3 = final.filter(merch_columns+['Recnum','Fraud'])\n",
    "final1 = final.filter(first_half)\n",
    "final2 = final.filter(second_half)"
   ]
  },
  {
   "cell_type": "code",
   "execution_count": null,
   "id": "266c4f7e",
   "metadata": {},
   "outputs": [],
   "source": [
    "# len(final3.columns) + len(final2.columns) + len(final1.columns) - 6"
   ]
  },
  {
   "cell_type": "code",
   "execution_count": null,
   "id": "3afaea63",
   "metadata": {},
   "outputs": [],
   "source": [
    "# len(set(list(final3.columns) + list(final2.columns) + list(final1.columns)))"
   ]
  },
  {
   "cell_type": "code",
   "execution_count": null,
   "id": "15641cb5",
   "metadata": {},
   "outputs": [],
   "source": [
    "# len(final_columns)"
   ]
  },
  {
   "cell_type": "code",
   "execution_count": 110,
   "id": "4d51ba86",
   "metadata": {},
   "outputs": [],
   "source": [
    "final1.to_csv(\"final1_1.csv\")\n",
    "final2.to_csv(\"final2_2.csv\")\n",
    "final3.to_csv(\"final3_3.csv\")"
   ]
  }
 ],
 "metadata": {
  "kernelspec": {
   "display_name": "Python 3",
   "language": "python",
   "name": "python3"
  },
  "language_info": {
   "codemirror_mode": {
    "name": "ipython",
    "version": 3
   },
   "file_extension": ".py",
   "mimetype": "text/x-python",
   "name": "python",
   "nbconvert_exporter": "python",
   "pygments_lexer": "ipython3",
   "version": "3.8.8"
  }
 },
 "nbformat": 4,
 "nbformat_minor": 5
}
