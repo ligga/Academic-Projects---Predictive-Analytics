{
 "cells": [
  {
   "cell_type": "code",
   "execution_count": 1,
   "id": "30da0c31",
   "metadata": {},
   "outputs": [],
   "source": [
    "from timeit import default_timer as timer\n",
    "import pandas as pd\n",
    "import scipy.stats\n",
    "import numpy as np\n",
    "import datetime as dt\n",
    "import seaborn as sns\n",
    "import matplotlib.pyplot as plt\n",
    "import calendar\n",
    "import time\n",
    "from itertools import permutations\n",
    "%matplotlib inline\n",
    "start_time = timer()"
   ]
  },
  {
   "cell_type": "code",
   "execution_count": 2,
   "id": "ed321c68",
   "metadata": {},
   "outputs": [
    {
     "name": "stdout",
     "output_type": "stream",
     "text": [
      "Duration:  0.00 minutes, or 0 seconds\n"
     ]
    }
   ],
   "source": [
    "print(f'Duration: {(timer() - start_time) / 60: 0.2f} minutes, or{(timer() - start_time): 0.0f} seconds')"
   ]
  },
  {
   "cell_type": "code",
   "execution_count": 3,
   "id": "b332cb1e",
   "metadata": {},
   "outputs": [],
   "source": [
    "data = pd.read_csv('applications data.csv')"
   ]
  },
  {
   "cell_type": "code",
   "execution_count": 4,
   "id": "c39387f7",
   "metadata": {},
   "outputs": [
    {
     "data": {
      "text/html": [
       "<div>\n",
       "<style scoped>\n",
       "    .dataframe tbody tr th:only-of-type {\n",
       "        vertical-align: middle;\n",
       "    }\n",
       "\n",
       "    .dataframe tbody tr th {\n",
       "        vertical-align: top;\n",
       "    }\n",
       "\n",
       "    .dataframe thead th {\n",
       "        text-align: right;\n",
       "    }\n",
       "</style>\n",
       "<table border=\"1\" class=\"dataframe\">\n",
       "  <thead>\n",
       "    <tr style=\"text-align: right;\">\n",
       "      <th></th>\n",
       "      <th>record</th>\n",
       "      <th>date</th>\n",
       "      <th>ssn</th>\n",
       "      <th>firstname</th>\n",
       "      <th>lastname</th>\n",
       "      <th>address</th>\n",
       "      <th>zip5</th>\n",
       "      <th>dob</th>\n",
       "      <th>homephone</th>\n",
       "      <th>fraud_label</th>\n",
       "    </tr>\n",
       "  </thead>\n",
       "  <tbody>\n",
       "    <tr>\n",
       "      <th>0</th>\n",
       "      <td>1</td>\n",
       "      <td>20160101</td>\n",
       "      <td>379070012</td>\n",
       "      <td>XRRAMMTR</td>\n",
       "      <td>SMJETJMJ</td>\n",
       "      <td>6861 EUTST PL</td>\n",
       "      <td>2765</td>\n",
       "      <td>19070626</td>\n",
       "      <td>1797504115</td>\n",
       "      <td>0</td>\n",
       "    </tr>\n",
       "    <tr>\n",
       "      <th>1</th>\n",
       "      <td>2</td>\n",
       "      <td>20160101</td>\n",
       "      <td>387482503</td>\n",
       "      <td>MAMSTUJR</td>\n",
       "      <td>RTTEMRRR</td>\n",
       "      <td>7280 URASA PL</td>\n",
       "      <td>57169</td>\n",
       "      <td>19340615</td>\n",
       "      <td>4164239415</td>\n",
       "      <td>1</td>\n",
       "    </tr>\n",
       "    <tr>\n",
       "      <th>2</th>\n",
       "      <td>3</td>\n",
       "      <td>20160101</td>\n",
       "      <td>200332444</td>\n",
       "      <td>SZMMUJEZS</td>\n",
       "      <td>EUSEZRAE</td>\n",
       "      <td>5581 RSREX LN</td>\n",
       "      <td>56721</td>\n",
       "      <td>19070626</td>\n",
       "      <td>216537580</td>\n",
       "      <td>0</td>\n",
       "    </tr>\n",
       "    <tr>\n",
       "      <th>3</th>\n",
       "      <td>4</td>\n",
       "      <td>20160101</td>\n",
       "      <td>747451317</td>\n",
       "      <td>SJJZSXRSZ</td>\n",
       "      <td>ETJXTXXS</td>\n",
       "      <td>1387 UJZXJ RD</td>\n",
       "      <td>35286</td>\n",
       "      <td>19440430</td>\n",
       "      <td>132144161</td>\n",
       "      <td>0</td>\n",
       "    </tr>\n",
       "    <tr>\n",
       "      <th>4</th>\n",
       "      <td>5</td>\n",
       "      <td>20160101</td>\n",
       "      <td>24065868</td>\n",
       "      <td>SSSXUEJMS</td>\n",
       "      <td>SSUUJXUZ</td>\n",
       "      <td>279 EAASA WY</td>\n",
       "      <td>3173</td>\n",
       "      <td>19980315</td>\n",
       "      <td>6101082272</td>\n",
       "      <td>0</td>\n",
       "    </tr>\n",
       "  </tbody>\n",
       "</table>\n",
       "</div>"
      ],
      "text/plain": [
       "   record      date        ssn  firstname  lastname        address   zip5  \\\n",
       "0       1  20160101  379070012   XRRAMMTR  SMJETJMJ  6861 EUTST PL   2765   \n",
       "1       2  20160101  387482503   MAMSTUJR  RTTEMRRR  7280 URASA PL  57169   \n",
       "2       3  20160101  200332444  SZMMUJEZS  EUSEZRAE  5581 RSREX LN  56721   \n",
       "3       4  20160101  747451317  SJJZSXRSZ  ETJXTXXS  1387 UJZXJ RD  35286   \n",
       "4       5  20160101   24065868  SSSXUEJMS  SSUUJXUZ   279 EAASA WY   3173   \n",
       "\n",
       "        dob   homephone  fraud_label  \n",
       "0  19070626  1797504115            0  \n",
       "1  19340615  4164239415            1  \n",
       "2  19070626   216537580            0  \n",
       "3  19440430   132144161            0  \n",
       "4  19980315  6101082272            0  "
      ]
     },
     "execution_count": 4,
     "metadata": {},
     "output_type": "execute_result"
    }
   ],
   "source": [
    "data.head()"
   ]
  },
  {
   "cell_type": "code",
   "execution_count": 5,
   "id": "cc30c228",
   "metadata": {},
   "outputs": [],
   "source": [
    "data['date'] = pd.to_datetime(data['date'],format='%Y%m%d')"
   ]
  },
  {
   "cell_type": "code",
   "execution_count": 6,
   "id": "e7264d01",
   "metadata": {},
   "outputs": [],
   "source": [
    "data['dob_date'] = pd.to_datetime(data['dob'],format='%Y%m%d')"
   ]
  },
  {
   "cell_type": "code",
   "execution_count": 7,
   "id": "df64316a",
   "metadata": {},
   "outputs": [],
   "source": [
    "data['zip5'] = data['zip5'].astype('str').str.zfill(5)"
   ]
  },
  {
   "cell_type": "markdown",
   "id": "6a17155d",
   "metadata": {},
   "source": [
    "### Handling Frivolous values"
   ]
  },
  {
   "cell_type": "code",
   "execution_count": 8,
   "id": "b86b8a9d",
   "metadata": {},
   "outputs": [],
   "source": [
    "#address\n",
    "data.loc[data['address']=='123 MAIN ST','address'] = data.loc[data['address']=='123 MAIN ST','record'].astype('str') + \" Record\" "
   ]
  },
  {
   "cell_type": "code",
   "execution_count": 9,
   "id": "1ad8dc20",
   "metadata": {},
   "outputs": [],
   "source": [
    "#dob\n",
    "data.loc[data['dob']==19070626,'dob'] = -data.loc[data['dob']==19070626]['record'].astype(int)\n",
    "# data['dob'] = data['dob'].apply(lambda x: '0:0>8'.format(x))\n",
    "data['dob'] = data['dob'].astype(str).str.zfill(8)"
   ]
  },
  {
   "cell_type": "code",
   "execution_count": 10,
   "id": "81048ad4",
   "metadata": {},
   "outputs": [
    {
     "data": {
      "text/plain": [
       "0         000000-1\n",
       "1         19340615\n",
       "2         000000-3\n",
       "3         19440430\n",
       "4         19980315\n",
       "            ...   \n",
       "999995    19550418\n",
       "999996    19150624\n",
       "999997    19880628\n",
       "999998    20120302\n",
       "999999    19820826\n",
       "Name: dob, Length: 1000000, dtype: object"
      ]
     },
     "execution_count": 10,
     "metadata": {},
     "output_type": "execute_result"
    }
   ],
   "source": [
    "data['dob']"
   ]
  },
  {
   "cell_type": "code",
   "execution_count": 11,
   "id": "d4f92274",
   "metadata": {},
   "outputs": [],
   "source": [
    "#ssn\n",
    "data.loc[data['ssn']==999999999,'ssn'] = -data.loc[data['ssn']==999999999,'record'].astype(int)\n",
    "# data['homephone'] = data['homephone'].apply(lambda x: '0:0>10'.format(x))\n",
    "data['ssn'] = data['ssn'].astype(str).str.zfill(9)"
   ]
  },
  {
   "cell_type": "code",
   "execution_count": 12,
   "id": "feb8f8bb",
   "metadata": {},
   "outputs": [],
   "source": [
    "#homephone\n",
    "data.loc[data['homephone']==9999999999,'homephone'] = -data.loc[data['homephone']==9999999999,'record'].astype(int)\n",
    "# data['homephone'] = data['homephone'].apply(lambda x: '0:0>10'.format(x))\n",
    "data['homephone'] = data['homephone'].astype(str).str.zfill(10)"
   ]
  },
  {
   "cell_type": "code",
   "execution_count": 13,
   "id": "aa9eb84a",
   "metadata": {},
   "outputs": [],
   "source": [
    "data['dow'] = data['date'].apply(lambda x : calendar.day_name[x.weekday()])"
   ]
  },
  {
   "cell_type": "code",
   "execution_count": 14,
   "id": "f88220ab",
   "metadata": {},
   "outputs": [
    {
     "data": {
      "text/plain": [
       "833507"
      ]
     },
     "execution_count": 14,
     "metadata": {},
     "output_type": "execute_result"
    }
   ],
   "source": [
    "train_test = data[data['date']<pd.to_datetime('2016-11-01')]\n",
    "len(train_test)"
   ]
  },
  {
   "cell_type": "code",
   "execution_count": 15,
   "id": "bbfc53d8",
   "metadata": {},
   "outputs": [
    {
     "data": {
      "text/plain": [
       "dow\n",
       "Friday       0.014499\n",
       "Monday       0.013480\n",
       "Saturday     0.014968\n",
       "Sunday       0.013674\n",
       "Thursday     0.014981\n",
       "Tuesday      0.014070\n",
       "Wednesday    0.015169\n",
       "Name: fraud_label, dtype: float64"
      ]
     },
     "execution_count": 15,
     "metadata": {},
     "output_type": "execute_result"
    }
   ],
   "source": [
    "#smoothing\n",
    "c = 4; nmid = 20; y_avg = train_test['fraud_label'].mean()\n",
    "y_dow = train_test.groupby('dow')['fraud_label'].mean()\n",
    "num = train_test.groupby('dow').size()\n",
    "y_dow"
   ]
  },
  {
   "cell_type": "code",
   "execution_count": 16,
   "id": "cb28829f",
   "metadata": {},
   "outputs": [
    {
     "data": {
      "text/plain": [
       "dow\n",
       "Friday       0.014499\n",
       "Monday       0.013480\n",
       "Saturday     0.014968\n",
       "Sunday       0.013674\n",
       "Thursday     0.014981\n",
       "Tuesday      0.014070\n",
       "Wednesday    0.015169\n",
       "Name: fraud_label, dtype: float64"
      ]
     },
     "execution_count": 16,
     "metadata": {},
     "output_type": "execute_result"
    }
   ],
   "source": [
    "train_test.groupby('dow').size()\n",
    "y_avg\n",
    "y_dow"
   ]
  },
  {
   "cell_type": "code",
   "execution_count": 17,
   "id": "a90d87ca",
   "metadata": {},
   "outputs": [
    {
     "data": {
      "text/plain": [
       "dow\n",
       "Friday       0.014499\n",
       "Monday       0.013480\n",
       "Saturday     0.014968\n",
       "Sunday       0.013674\n",
       "Thursday     0.014981\n",
       "Tuesday      0.014070\n",
       "Wednesday    0.015169\n",
       "dtype: float64"
      ]
     },
     "execution_count": 17,
     "metadata": {},
     "output_type": "execute_result"
    }
   ],
   "source": [
    "y_dow_smooth = y_avg + (y_dow - y_avg)/( 1 + np.exp(-(num - nmid)/c))\n",
    "y_dow_smooth"
   ]
  },
  {
   "cell_type": "code",
   "execution_count": 18,
   "id": "45c82111",
   "metadata": {},
   "outputs": [
    {
     "data": {
      "text/plain": [
       "dow\n",
       "Friday       0.014499\n",
       "Monday       0.013480\n",
       "Saturday     0.014968\n",
       "Sunday       0.013674\n",
       "Thursday     0.014981\n",
       "Tuesday      0.014070\n",
       "Wednesday    0.015169\n",
       "Name: fraud_label, dtype: float64"
      ]
     },
     "execution_count": 18,
     "metadata": {},
     "output_type": "execute_result"
    }
   ],
   "source": [
    "y_dow"
   ]
  },
  {
   "cell_type": "code",
   "execution_count": 19,
   "id": "230bd0fe",
   "metadata": {},
   "outputs": [],
   "source": [
    "data['dow_risk'] = data['dow'].map(y_dow_smooth)"
   ]
  },
  {
   "cell_type": "code",
   "execution_count": 20,
   "id": "b2fcd825",
   "metadata": {},
   "outputs": [
    {
     "data": {
      "text/html": [
       "<div>\n",
       "<style scoped>\n",
       "    .dataframe tbody tr th:only-of-type {\n",
       "        vertical-align: middle;\n",
       "    }\n",
       "\n",
       "    .dataframe tbody tr th {\n",
       "        vertical-align: top;\n",
       "    }\n",
       "\n",
       "    .dataframe thead th {\n",
       "        text-align: right;\n",
       "    }\n",
       "</style>\n",
       "<table border=\"1\" class=\"dataframe\">\n",
       "  <thead>\n",
       "    <tr style=\"text-align: right;\">\n",
       "      <th></th>\n",
       "      <th>fraud_label</th>\n",
       "    </tr>\n",
       "    <tr>\n",
       "      <th>dow</th>\n",
       "      <th></th>\n",
       "    </tr>\n",
       "  </thead>\n",
       "  <tbody>\n",
       "    <tr>\n",
       "      <th>Monday</th>\n",
       "      <td>0.013480</td>\n",
       "    </tr>\n",
       "    <tr>\n",
       "      <th>Tuesday</th>\n",
       "      <td>0.014070</td>\n",
       "    </tr>\n",
       "    <tr>\n",
       "      <th>Wednesday</th>\n",
       "      <td>0.015169</td>\n",
       "    </tr>\n",
       "    <tr>\n",
       "      <th>Thursday</th>\n",
       "      <td>0.014981</td>\n",
       "    </tr>\n",
       "    <tr>\n",
       "      <th>Friday</th>\n",
       "      <td>0.014499</td>\n",
       "    </tr>\n",
       "    <tr>\n",
       "      <th>Saturday</th>\n",
       "      <td>0.014968</td>\n",
       "    </tr>\n",
       "    <tr>\n",
       "      <th>Sunday</th>\n",
       "      <td>0.013674</td>\n",
       "    </tr>\n",
       "  </tbody>\n",
       "</table>\n",
       "</div>"
      ],
      "text/plain": [
       "           fraud_label\n",
       "dow                   \n",
       "Monday        0.013480\n",
       "Tuesday       0.014070\n",
       "Wednesday     0.015169\n",
       "Thursday      0.014981\n",
       "Friday        0.014499\n",
       "Saturday      0.014968\n",
       "Sunday        0.013674"
      ]
     },
     "execution_count": 20,
     "metadata": {},
     "output_type": "execute_result"
    }
   ],
   "source": [
    "y_dow = y_dow.reset_index()\n",
    "cats = ['Monday','Tuesday','Wednesday','Thursday','Friday','Saturday','Sunday']\n",
    "y_dow['dow'] = pd.Categorical(y_dow['dow'],categories=cats,ordered = True)\n",
    "y_dow = y_dow.sort_values('dow').set_index('dow')\n",
    "y_dow"
   ]
  },
  {
   "cell_type": "code",
   "execution_count": 21,
   "id": "994ddd21",
   "metadata": {},
   "outputs": [
    {
     "data": {
      "text/plain": [
       "Index(['record', 'date', 'ssn', 'firstname', 'lastname', 'address', 'zip5',\n",
       "       'dob', 'homephone', 'fraud_label', 'dob_date', 'dow', 'dow_risk'],\n",
       "      dtype='object')"
      ]
     },
     "execution_count": 21,
     "metadata": {},
     "output_type": "execute_result"
    }
   ],
   "source": [
    "data.columns"
   ]
  },
  {
   "cell_type": "code",
   "execution_count": 22,
   "id": "839055c1",
   "metadata": {},
   "outputs": [],
   "source": [
    "data['name'] = data['firstname'] + data['lastname']\n",
    "data['fulladdress'] = data['address'] + data['zip5']\n",
    "data['name_dob'] = data['name'] + data['dob']\n",
    "data['name_fulladdress'] = data['name'] + data['fulladdress']\n",
    "data['name_homephone'] = data['name'] + data['homephone']\n",
    "data['fulladdress_dob'] = data['fulladdress'] + data['dob']\n",
    "data['fulladdress_homephone'] = data['fulladdress'] + data['homephone']\n",
    "data['dob_homephone'] = data['dob'] + data['homephone']\n",
    "data['homephone_name_dob'] =  data['homephone'] + data['name'] + data['dob']\n",
    "\n"
   ]
  },
  {
   "cell_type": "code",
   "execution_count": 23,
   "id": "3175468d",
   "metadata": {},
   "outputs": [
    {
     "data": {
      "text/plain": [
       "Index(['record', 'date', 'ssn', 'firstname', 'lastname', 'address', 'zip5',\n",
       "       'dob', 'homephone', 'fraud_label', 'dob_date', 'dow', 'dow_risk',\n",
       "       'name', 'fulladdress', 'name_dob', 'name_fulladdress', 'name_homephone',\n",
       "       'fulladdress_dob', 'fulladdress_homephone', 'dob_homephone',\n",
       "       'homephone_name_dob'],\n",
       "      dtype='object')"
      ]
     },
     "execution_count": 23,
     "metadata": {},
     "output_type": "execute_result"
    }
   ],
   "source": [
    "data.columns"
   ]
  },
  {
   "cell_type": "code",
   "execution_count": 24,
   "id": "4234fa62",
   "metadata": {},
   "outputs": [],
   "source": [
    "data['ssn_firstname'] = data['ssn'] + data['firstname']\n",
    "data['ssn_lastname'] = data['ssn'] + data['lastname']\n",
    "data['ssn_dob'] = data['ssn'] + data['dob']\n",
    "data['ssn_fulladdress'] = data['ssn'] + data['fulladdress']\n",
    "data['ssn_homephone'] = data['ssn'] + data['homephone']\n",
    "data['ssn_address'] = data['ssn'] + data['address']\n",
    "data['ssn_zip5'] = data['ssn'] + data['zip5']\n",
    "data['ssn_name'] = data['ssn'] + data['name']\n",
    "data['ssn_name_dob'] = data['ssn'] + data['name'] + data['dob']\n"
   ]
  },
  {
   "cell_type": "code",
   "execution_count": 25,
   "id": "0ab11059",
   "metadata": {},
   "outputs": [
    {
     "data": {
      "text/plain": [
       "Index(['record', 'date', 'ssn', 'firstname', 'lastname', 'address', 'zip5',\n",
       "       'dob', 'homephone', 'fraud_label', 'dob_date', 'dow', 'dow_risk',\n",
       "       'name', 'fulladdress', 'name_dob', 'name_fulladdress', 'name_homephone',\n",
       "       'fulladdress_dob', 'fulladdress_homephone', 'dob_homephone',\n",
       "       'homephone_name_dob', 'ssn_firstname', 'ssn_lastname', 'ssn_dob',\n",
       "       'ssn_fulladdress', 'ssn_homephone', 'ssn_address', 'ssn_zip5',\n",
       "       'ssn_name', 'ssn_name_dob'],\n",
       "      dtype='object')"
      ]
     },
     "execution_count": 25,
     "metadata": {},
     "output_type": "execute_result"
    }
   ],
   "source": [
    "data.columns"
   ]
  },
  {
   "cell_type": "code",
   "execution_count": 26,
   "id": "19fe6a96",
   "metadata": {},
   "outputs": [],
   "source": [
    "attributes = [ 'ssn',  'address', 'zip5',\n",
    "       'dob', 'homephone','name', 'fulladdress', 'name_dob', 'name_fulladdress', 'name_homephone',\n",
    "       'fulladdress_dob', 'fulladdress_homephone', 'dob_homephone',\n",
    "       'homephone_name_dob', 'ssn_firstname', 'ssn_lastname', 'ssn_dob',\n",
    "       'ssn_fulladdress', 'ssn_homephone', 'ssn_address', 'ssn_zip5',\n",
    "       'ssn_name', 'ssn_name_dob'] #'firstname', 'lastname',"
   ]
  },
  {
   "cell_type": "code",
   "execution_count": 27,
   "id": "8c8bacef",
   "metadata": {},
   "outputs": [
    {
     "data": {
      "text/plain": [
       "23"
      ]
     },
     "execution_count": 27,
     "metadata": {},
     "output_type": "execute_result"
    }
   ],
   "source": [
    "len(attributes)"
   ]
  },
  {
   "cell_type": "markdown",
   "id": "fb7d6e6c",
   "metadata": {},
   "source": [
    "### Feature engineering"
   ]
  },
  {
   "cell_type": "code",
   "execution_count": 28,
   "id": "db06d32a",
   "metadata": {},
   "outputs": [
    {
     "data": {
      "text/plain": [
       "(1000000, 31)"
      ]
     },
     "execution_count": 28,
     "metadata": {},
     "output_type": "execute_result"
    }
   ],
   "source": [
    "data1=data.copy()\n",
    "vars=data.copy()\n",
    "data1['check_date']=data1.date\n",
    "data1['check_record']=data1.record\n",
    "vars.shape"
   ]
  },
  {
   "cell_type": "code",
   "execution_count": 29,
   "id": "80bcfbc4",
   "metadata": {},
   "outputs": [
    {
     "data": {
      "text/plain": [
       "106755"
      ]
     },
     "execution_count": 29,
     "metadata": {},
     "output_type": "execute_result"
    }
   ],
   "source": [
    "data['homephone'].nunique()"
   ]
  },
  {
   "cell_type": "code",
   "execution_count": null,
   "id": "ef10b078",
   "metadata": {},
   "outputs": [
    {
     "name": "stdout",
     "output_type": "stream",
     "text": [
      "Total run time for days since: 1.1661051988601685min\n",
      "Total variables for days since: 23\n"
     ]
    }
   ],
   "source": [
    "#days_since and velocity\n",
    "count_days_since = 0\n",
    "st = time.time()\n",
    "for e in attributes:\n",
    "    d1=data1[['record','date',e]]\n",
    "    dr=data1[['check_record','check_date',e]]\n",
    "    temp=pd.merge(d1,dr,left_on=e,right_on=e)\n",
    "\n",
    "    day_since=temp[temp.record>temp.check_record][['record','date','check_date']]\\\n",
    "                .groupby('record')[['date','check_date']].last()\n",
    "    \n",
    "\n",
    "    mapper=(day_since.date-day_since.check_date).dt.days\n",
    "    vars[e+'_day_since']=vars.record.map(mapper)\n",
    "    vars[e+'_day_since'].fillna(365,inplace=True)\n",
    "    count_days_since = count_days_since + 1\n",
    "\n",
    "print(f'Total run time for days since: {(time.time() - st) / 60}min') \n",
    "print(f'Total variables for days since: {count_days_since}') \n",
    "\n",
    "\n",
    "st = time.time()\n",
    "count_velocity_vars = 0\n",
    "for e in attributes:\n",
    "    d1=data1[['record','date',e]]\n",
    "    dr=data1[['check_record','check_date',e]]\n",
    "    temp=pd.merge(d1,dr,left_on=e,right_on=e)\n",
    "    for t in [0,1,3,7,14,30]:\n",
    "        count_day=temp[(temp.check_date >= (temp.date-dt.timedelta(t)))\n",
    "                        & (temp.record >= temp.check_record)]\n",
    "        col_name=f'{e}_count_{t}'\n",
    "        mapper2=count_day.groupby('record')[e].count()\n",
    "        vars[col_name]=vars.record.map(mapper2)\n",
    "        count_velocity_vars = count_velocity_vars + 1\n",
    "\n",
    "print(f'Total run time: {(time.time() - st) / 60}min')\n",
    "print(f'Total variables for velocity: {count_velocity_vars}') "
   ]
  },
  {
   "cell_type": "code",
   "execution_count": null,
   "id": "d798be91",
   "metadata": {},
   "outputs": [],
   "source": [
    "#storing the dataframe in pickle form\n",
    "vars.to_pickle(\"vars_velocity_days_since\")"
   ]
  },
  {
   "cell_type": "code",
   "execution_count": null,
   "id": "ee844b21",
   "metadata": {},
   "outputs": [],
   "source": [
    "vars.columns"
   ]
  },
  {
   "cell_type": "code",
   "execution_count": null,
   "id": "5f7ae570",
   "metadata": {},
   "outputs": [],
   "source": [
    "#professor removed some elements from attributes, but I have used attributesFull everywhere\n",
    "attributesFull = attributes.copy()\n",
    "attributes.remove('address')\n",
    "attributes.remove('dob')\n",
    "attributes.remove('name')\n",
    "attributes.remove('ssn_address')\n",
    "attributes.remove('homephone')\n",
    "attributes.remove('name_homephone')\n",
    "attributes.remove('fulladdress_homephone')\n",
    "attributes.remove('homephone_name_dob')\n",
    "attributes.remove('ssn_homephone')\n",
    "attributes.remove('ssn_firstname')\n",
    "attributes.remove('ssn_dob')"
   ]
  },
  {
   "cell_type": "code",
   "execution_count": null,
   "id": "27f46c9d",
   "metadata": {},
   "outputs": [],
   "source": [
    "#there is a difference of 11 variables\n",
    "len(attributesFull)- len(attributes)"
   ]
  },
  {
   "cell_type": "code",
   "execution_count": null,
   "id": "d8be6f40",
   "metadata": {},
   "outputs": [],
   "source": [
    "count_relative_velocity_vars = 0\n",
    "st = time.time()\n",
    "for t in attributesFull:\n",
    "    for d in ['0','1']:\n",
    "        for dd in ['3','7','14','30']:\n",
    "            vars[t+'_count_'+d+'_by_'+dd]= vars[t+'_count_'+d]/(vars[t+'_count_'+dd]/float(dd))\n",
    "            count_relative_velocity_vars = count_relative_velocity_vars + 1\n",
    "print(f'Total run time: {(time.time() - st) / 60}min')\n",
    "print(f'Total variables for relative velocity: {count_relative_velocity_vars}') \n",
    "            "
   ]
  },
  {
   "cell_type": "code",
   "execution_count": null,
   "id": "5fdbad02",
   "metadata": {},
   "outputs": [],
   "source": [
    "vars.to_pickle(\"vars_velocity_days_since_relative_velocity\")"
   ]
  },
  {
   "cell_type": "code",
   "execution_count": null,
   "id": "e6125d8c",
   "metadata": {},
   "outputs": [],
   "source": [
    "vars.columns"
   ]
  },
  {
   "cell_type": "code",
   "execution_count": null,
   "id": "794c42b0",
   "metadata": {},
   "outputs": [],
   "source": [
    "data['age'] = (data['date'] - data['dob_date']).dt.days/365"
   ]
  },
  {
   "cell_type": "code",
   "execution_count": null,
   "id": "627d30f6",
   "metadata": {},
   "outputs": [],
   "source": [
    "data.groupby('ssn')['age'].mean().value_counts()"
   ]
  },
  {
   "cell_type": "code",
   "execution_count": null,
   "id": "765e030b",
   "metadata": {},
   "outputs": [],
   "source": [
    "#dropping all the columns in vars except record to have more space\n",
    "vars = vars[['record']]\n",
    "vars"
   ]
  },
  {
   "cell_type": "code",
   "execution_count": null,
   "id": "b18fe362",
   "metadata": {},
   "outputs": [],
   "source": [
    "with open(\"combinations.pickle\",\"rb\") as file_to_read:\n",
    "    combDict = pickle.load(file_to_read)\n"
   ]
  },
  {
   "cell_type": "code",
   "execution_count": null,
   "id": "5be639d2",
   "metadata": {},
   "outputs": [],
   "source": [
    "combDict['comb1']"
   ]
  },
  {
   "cell_type": "code",
   "execution_count": null,
   "id": "f5651363",
   "metadata": {},
   "outputs": [],
   "source": [
    "#count by entities first time ( About 1500 variables)\n",
    "\n",
    "begin = time.time()\n",
    "count_count_entities_vars = 0\n",
    "for (entity,field) in combDict['comb1']:\n",
    "    st = time.time()\n",
    "    df_c = data1[['record','date',entity]]\n",
    "    df_d = data1[['check_record','check_date',entity,field]]\n",
    "    temp = pd.merge(df_c,df_d,on = entity)\n",
    "    for offset_t in [1,3,7,14,30,60]:\n",
    "        count_dat_df = temp[(temp.check_date >= temp.date - dt.timedelta(offset_t)) & (temp.record >=temp.check_record)]\n",
    "        col_name = f'{entity}_unique_count_for_{field}_{offset_t}'\n",
    "        mapper = count_dat_df.groupby(['record'])[field].nunique()\n",
    "        vars[col_name] = vars.record.map(mapper)\n",
    "        count_count_entities_vars = count_count_entities_vars + 1\n",
    "    \n",
    "    print(f'Run time for entity {entity} in field {field}-----------------{time.time() - st}s')\n",
    "\n",
    "print(f'Total run time{(time.time()-begin)/60} min')\n",
    "print(f'Total count by entities variables {count_count_entities_vars}')\n",
    "        "
   ]
  },
  {
   "cell_type": "code",
   "execution_count": null,
   "id": "adb61bba",
   "metadata": {},
   "outputs": [],
   "source": [
    "vars.to_pickle(\"vars_count_entities_1\")"
   ]
  },
  {
   "cell_type": "code",
   "execution_count": null,
   "id": "3ebb267a",
   "metadata": {},
   "outputs": [],
   "source": [
    "y = vars['record']"
   ]
  },
  {
   "cell_type": "code",
   "execution_count": null,
   "id": "cae5b6cd",
   "metadata": {},
   "outputs": [],
   "source": [
    "del vars"
   ]
  },
  {
   "cell_type": "code",
   "execution_count": null,
   "id": "bc468ae3",
   "metadata": {},
   "outputs": [],
   "source": [
    "vars = pd.DataFrame({'record':y})"
   ]
  },
  {
   "cell_type": "code",
   "execution_count": null,
   "id": "52deacbc",
   "metadata": {},
   "outputs": [],
   "source": [
    "#count by entities second time (About 400 variables)\n",
    "begin = time.time()\n",
    "count_count_entities_vars = 0\n",
    "for (entity,field) in combDict['comb2']:\n",
    "    st = time.time()\n",
    "    df_c = data1[['record','date',entity]]\n",
    "    df_d = data1[['check_record','check_date',entity,field]]\n",
    "    temp = pd.merge(df_c,df_d,on = entity)\n",
    "    for offset_t in [1,3,7,14,30,60]:\n",
    "        count_dat_df = temp[(temp.check_date >= temp.date - dt.timedelta(offset_t)) & (temp.record >=temp.check_record)]\n",
    "        col_name = f'{entity}_unique_count_for_{field}_{offset_t}'\n",
    "        mapper = count_dat_df.groupby(['record'])[field].nunique()\n",
    "        vars[col_name] = vars.record.map(mapper)\n",
    "        count_count_entities_vars = count_count_entities_vars + 1\n",
    "    \n",
    "    print(f'Run time for entity {entity} in field {field}-----------------{time.time() - st}s')\n",
    "\n",
    "print(f'Total run time{(time.time()-begin)/60} min')\n",
    "print(f'Total count by entities variables {count_count_entities_vars}')\n",
    "        "
   ]
  },
  {
   "cell_type": "code",
   "execution_count": null,
   "id": "2f18714d",
   "metadata": {},
   "outputs": [],
   "source": [
    "vars.to_pickle(\"vars_count_entities_2\")"
   ]
  },
  {
   "cell_type": "code",
   "execution_count": null,
   "id": "a1bc9e09",
   "metadata": {},
   "outputs": [],
   "source": [
    "vars = pd.DataFrame(vars['record'])\n",
    "vars"
   ]
  },
  {
   "cell_type": "code",
   "execution_count": null,
   "id": "c4200678",
   "metadata": {},
   "outputs": [],
   "source": [
    "#count by entities third time (About 1100 variables)\n",
    "begin = time.time()\n",
    "count_count_entities_vars = 0\n",
    "for (entity,field) in combDict['comb3']:\n",
    "    st = time.time()\n",
    "    df_c = data1[['record','date',entity]]\n",
    "    df_d = data1[['check_record','check_date',entity,field]]\n",
    "    temp = pd.merge(df_c,df_d,on = entity)\n",
    "    for offset_t in [1,3,7,14,30,60]:\n",
    "        count_dat_df = temp[(temp.check_date >= temp.date - dt.timedelta(offset_t)) & (temp.record >=temp.check_record)]\n",
    "        col_name = f'{entity}_unique_count_for_{field}_{offset_t}'\n",
    "        mapper = count_dat_df.groupby(['record'])[field].nunique()\n",
    "        vars[col_name] = vars.record.map(mapper)\n",
    "        count_count_entities_vars = count_count_entities_vars + 1\n",
    "    \n",
    "    print(f'Run time for entity {entity} in field {field}-----------------{time.time() - st}s')\n",
    "\n",
    "print(f'Total run time{(time.time()-begin)/60} min')\n",
    "print(f'Total count by entities variables {count_count_entities_vars}')"
   ]
  },
  {
   "cell_type": "code",
   "execution_count": null,
   "id": "f5f6003b",
   "metadata": {},
   "outputs": [],
   "source": [
    "vars.to_pickle(\"vars_count_entities_3\")"
   ]
  },
  {
   "cell_type": "code",
   "execution_count": null,
   "id": "d0526e1d",
   "metadata": {},
   "outputs": [],
   "source": [
    "#Age variables"
   ]
  },
  {
   "cell_type": "code",
   "execution_count": null,
   "id": "b0aa5074",
   "metadata": {},
   "outputs": [],
   "source": [
    "vars = data.copy()"
   ]
  },
  {
   "cell_type": "code",
   "execution_count": null,
   "id": "84b56a1f",
   "metadata": {},
   "outputs": [],
   "source": [
    "st = time.time()\n",
    "#ensure vars is sorted\n",
    "vars = vars.sort_values(by = ['record','date'])\n",
    "cols_age_vars = ['ssn','ssn_homephone','ssn_name','ssn_zip5','name_fulladdress','ssn_address','name_homephone']\n",
    "for i in cols_age_vars:\n",
    "    vars['previous_age_diff_'+i] = vars['age'] - vars.groupby([i])['age'].shift()\n",
    "    vars['previous_age_diff_'+i] = vars['previous_age_diff_'+i].fillna(0)\n",
    "print(f\"Time to create these variables {(time.time() - st)/60} min\")"
   ]
  },
  {
   "cell_type": "code",
   "execution_count": null,
   "id": "628c04d0",
   "metadata": {},
   "outputs": [],
   "source": [
    "vars.columns"
   ]
  },
  {
   "cell_type": "code",
   "execution_count": null,
   "id": "db8112f1",
   "metadata": {},
   "outputs": [],
   "source": [
    "vars.filter(['record','age', 'previous_age_diff_ssn',\n",
    "       'previous_age_diff_ssn_homephone', 'previous_age_diff_ssn_name',\n",
    "       'previous_age_diff_ssn_zip5', 'previous_age_diff_name_fulladdress',\n",
    "       'previous_age_diff_ssn_address', 'previous_age_diff_name_homephone']).to_pickle(\"vars_age_entities\")"
   ]
  },
  {
   "cell_type": "markdown",
   "id": "9b8e04c3",
   "metadata": {},
   "source": [
    "#### End"
   ]
  },
  {
   "cell_type": "markdown",
   "id": "533de633",
   "metadata": {},
   "source": [
    "Following is for my reference"
   ]
  },
  {
   "cell_type": "code",
   "execution_count": null,
   "id": "29450d7a",
   "metadata": {},
   "outputs": [],
   "source": [
    "# comb1 = []\n",
    "# for (entity,field) in permutations(attributesFull,2):\n",
    "#     for offset_t in [1,3,7,14,30,60]:\n",
    "#         col_name = f'{entity}_unique_count_for_{field}_{offset_t}'\n",
    "#         if col_name in cols1:\n",
    "#             comb1.append((entity,field))"
   ]
  },
  {
   "cell_type": "code",
   "execution_count": null,
   "id": "e84eb7c6",
   "metadata": {},
   "outputs": [],
   "source": [
    "# comb2 = []\n",
    "# for (entity,field) in permutations(attributesFull,2):\n",
    "#     for offset_t in [1,3,7,14,30,60]:\n",
    "#         col_name = f'{entity}_unique_count_for_{field}_{offset_t}'\n",
    "#         if col_name in cols2:\n",
    "#             comb2.append((entity,field))"
   ]
  },
  {
   "cell_type": "code",
   "execution_count": null,
   "id": "0faabc03",
   "metadata": {},
   "outputs": [],
   "source": [
    "# test3 = pd.read_pickle(\"vars_count_entities_3\")"
   ]
  },
  {
   "cell_type": "code",
   "execution_count": null,
   "id": "c2ad4a93",
   "metadata": {},
   "outputs": [],
   "source": [
    "# cols3 = test3.columns"
   ]
  },
  {
   "cell_type": "code",
   "execution_count": null,
   "id": "9d00e7ef",
   "metadata": {},
   "outputs": [],
   "source": [
    "# comb3 = []\n",
    "# for (entity,field) in permutations(attributesFull,2):\n",
    "#     for offset_t in [1,3,7,14,30,60]:\n",
    "#         col_name = f'{entity}_unique_count_for_{field}_{offset_t}'\n",
    "#         if col_name in cols3:\n",
    "#             comb3.append((entity,field))"
   ]
  },
  {
   "cell_type": "code",
   "execution_count": null,
   "id": "86ebfd4d",
   "metadata": {},
   "outputs": [],
   "source": [
    "# import pickle\n",
    "# combDict = {'comb1':list(set(comb1)),'comb2':list(set(comb2)),'comb3':[i for i in list(set(comb3)) if i!=('ssn_homephone', 'ssn_fulladdress')]}\n",
    "# file_to_write = open(\"combinations.pickle\", \"wb\")\n",
    "# pickle.dump(combDict, file_to_write)"
   ]
  },
  {
   "cell_type": "code",
   "execution_count": null,
   "id": "ba120017",
   "metadata": {},
   "outputs": [],
   "source": [
    "# with open(\"combinations.pickle\",\"rb\") as file_to_read:\n",
    "#     combDict2 = pickle.load(file_to_read)"
   ]
  }
 ],
 "metadata": {
  "kernelspec": {
   "display_name": "Python 3",
   "language": "python",
   "name": "python3"
  },
  "language_info": {
   "codemirror_mode": {
    "name": "ipython",
    "version": 3
   },
   "file_extension": ".py",
   "mimetype": "text/x-python",
   "name": "python",
   "nbconvert_exporter": "python",
   "pygments_lexer": "ipython3",
   "version": "3.8.8"
  }
 },
 "nbformat": 4,
 "nbformat_minor": 5
}
